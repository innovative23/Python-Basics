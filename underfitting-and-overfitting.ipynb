{
 "cells": [
  {
   "cell_type": "markdown",
   "id": "a45b1d1f",
   "metadata": {
    "papermill": {
     "duration": 0.003077,
     "end_time": "2025-03-14T19:50:14.564299",
     "exception": false,
     "start_time": "2025-03-14T19:50:14.561222",
     "status": "completed"
    },
    "tags": []
   },
   "source": [
    "At the end of this step, you will understand the concepts of underfitting and overfitting, and you will be able to apply these ideas to make your models more accurate.\n",
    "\n",
    "# Experimenting With Different Models\n",
    "\n",
    "Now that you have a reliable way to measure model accuracy, you can experiment with alternative models and see which gives the best predictions.  But what alternatives do you have for models?\n",
    "\n",
    "You can see in scikit-learn's [documentation](http://scikit-learn.org/stable/modules/generated/sklearn.tree.DecisionTreeRegressor.html) that the decision tree model has many options (more than you'll want or need for a long time). The most important options determine the tree's depth.  Recall from [the first lesson in this course](https://www.kaggle.com/dansbecker/how-models-work) that a tree's depth is a measure of how many splits it makes before coming to a prediction.  This is a relatively shallow tree\n",
    "\n",
    "![Depth 2 Tree](http://i.imgur.com/R3ywQsR.png)\n",
    "\n",
    "In practice, it's not uncommon for a tree to have 10 splits between the top level (all houses) and a leaf.  As the tree gets deeper, the dataset gets sliced up into leaves with fewer houses.  If a tree only had 1 split, it divides the data into 2 groups. If each group is split again, we would get 4 groups of houses.  Splitting each of those again would create 8 groups.  If we keep doubling the number of groups by adding more splits at each level, we'll have \\\\(2^{10}\\\\) groups of houses by the time we get to the 10th level. That's 1024 leaves.  \n",
    "\n",
    "When we divide the houses amongst many leaves, we also have fewer houses in each leaf.  Leaves with very few houses will make predictions that are quite close to those homes' actual values, but they may make very unreliable predictions for new data (because each prediction is based on only a few houses).\n",
    "\n",
    "This is a phenomenon called **overfitting**, where a model matches the training data almost perfectly, but does poorly in validation and other new data.  On the flip side, if we make our tree very shallow, it doesn't divide up the houses into very distinct groups.  \n",
    "\n",
    "At an extreme, if a tree divides houses into only 2 or 4, each group still has a wide variety of houses. Resulting predictions may be far off for most houses, even in the training data (and it will be bad in validation too for the same reason). When a model fails to capture important distinctions and patterns in the data, so it performs poorly even in training data, that is called **underfitting**.  \n",
    "\n",
    "Since we care about accuracy on new data, which we estimate from our validation data, we want to find the sweet spot between underfitting and overfitting.  Visually, we want the low point of the (red) validation curve in the figure below.\n",
    "\n",
    "![underfitting_overfitting](http://i.imgur.com/AXSEOfI.png)\n",
    "\n",
    "# Example\n",
    "There are a few alternatives for controlling the tree depth, and many allow for some routes through the tree to have greater depth than other routes.  But the *max_leaf_nodes* argument provides a very sensible way to control overfitting vs underfitting.  The more leaves we allow the model to make, the more we move from the underfitting area in the above graph to the overfitting area.\n",
    "\n",
    "We can use a utility function to help compare MAE scores from different values for *max_leaf_nodes*:\n"
   ]
  },
  {
   "cell_type": "code",
   "execution_count": 1,
   "id": "61f33dee",
   "metadata": {
    "execution": {
     "iopub.execute_input": "2025-03-14T19:50:14.571135Z",
     "iopub.status.busy": "2025-03-14T19:50:14.570704Z",
     "iopub.status.idle": "2025-03-14T19:50:16.627399Z",
     "shell.execute_reply": "2025-03-14T19:50:16.626112Z"
    },
    "papermill": {
     "duration": 2.062426,
     "end_time": "2025-03-14T19:50:16.629670",
     "exception": false,
     "start_time": "2025-03-14T19:50:14.567244",
     "status": "completed"
    },
    "tags": []
   },
   "outputs": [],
   "source": [
    "from sklearn.metrics import mean_absolute_error\n",
    "from sklearn.tree import DecisionTreeRegressor\n",
    "\n",
    "def get_mae(max_leaf_nodes, train_X, val_X, train_y, val_y):\n",
    "    model = DecisionTreeRegressor(max_leaf_nodes=max_leaf_nodes, random_state=0)\n",
    "    model.fit(train_X, train_y)\n",
    "    preds_val = model.predict(val_X)\n",
    "    mae = mean_absolute_error(val_y, preds_val)\n",
    "    return(mae)"
   ]
  },
  {
   "cell_type": "markdown",
   "id": "b7339536",
   "metadata": {
    "papermill": {
     "duration": 0.002287,
     "end_time": "2025-03-14T19:50:16.634728",
     "exception": false,
     "start_time": "2025-03-14T19:50:16.632441",
     "status": "completed"
    },
    "tags": []
   },
   "source": [
    "The data is loaded into **train_X**, **val_X**, **train_y** and **val_y** using the code you've already seen (and which you've already written)."
   ]
  },
  {
   "cell_type": "code",
   "execution_count": 2,
   "id": "8c7ddb03",
   "metadata": {
    "_kg_hide-input": true,
    "_kg_hide-output": true,
    "execution": {
     "iopub.execute_input": "2025-03-14T19:50:16.641173Z",
     "iopub.status.busy": "2025-03-14T19:50:16.640571Z",
     "iopub.status.idle": "2025-03-14T19:50:17.888088Z",
     "shell.execute_reply": "2025-03-14T19:50:17.886424Z"
    },
    "papermill": {
     "duration": 1.253586,
     "end_time": "2025-03-14T19:50:17.890727",
     "exception": false,
     "start_time": "2025-03-14T19:50:16.637141",
     "status": "completed"
    },
    "tags": []
   },
   "outputs": [],
   "source": [
    "# Data Loading Code Runs At This Point\n",
    "import pandas as pd\n",
    "    \n",
    "# Load data\n",
    "melbourne_file_path = '../input/melbourne-housing-snapshot/melb_data.csv'\n",
    "melbourne_data = pd.read_csv(melbourne_file_path) \n",
    "# Filter rows with missing values\n",
    "filtered_melbourne_data = melbourne_data.dropna(axis=0)\n",
    "# Choose target and features\n",
    "y = filtered_melbourne_data.Price\n",
    "melbourne_features = ['Rooms', 'Bathroom', 'Landsize', 'BuildingArea', \n",
    "                        'YearBuilt', 'Lattitude', 'Longtitude']\n",
    "X = filtered_melbourne_data[melbourne_features]\n",
    "\n",
    "from sklearn.model_selection import train_test_split\n",
    "\n",
    "# split data into training and validation data, for both features and target\n",
    "train_X, val_X, train_y, val_y = train_test_split(X, y,random_state = 0)"
   ]
  },
  {
   "cell_type": "markdown",
   "id": "83aa11fc",
   "metadata": {
    "papermill": {
     "duration": 0.002368,
     "end_time": "2025-03-14T19:50:17.895802",
     "exception": false,
     "start_time": "2025-03-14T19:50:17.893434",
     "status": "completed"
    },
    "tags": []
   },
   "source": [
    "We can use a for-loop to compare the accuracy of models built with different values for *max_leaf_nodes.*"
   ]
  },
  {
   "cell_type": "code",
   "execution_count": 3,
   "id": "be611868",
   "metadata": {
    "execution": {
     "iopub.execute_input": "2025-03-14T19:50:17.910289Z",
     "iopub.status.busy": "2025-03-14T19:50:17.909757Z",
     "iopub.status.idle": "2025-03-14T19:50:18.021481Z",
     "shell.execute_reply": "2025-03-14T19:50:18.019486Z"
    },
    "papermill": {
     "duration": 0.126114,
     "end_time": "2025-03-14T19:50:18.024371",
     "exception": false,
     "start_time": "2025-03-14T19:50:17.898257",
     "status": "completed"
    },
    "tags": []
   },
   "outputs": [
    {
     "name": "stdout",
     "output_type": "stream",
     "text": [
      "Max leaf nodes: 5  \t\t Mean Absolute Error:  347380\n",
      "Max leaf nodes: 50  \t\t Mean Absolute Error:  258171\n",
      "Max leaf nodes: 500  \t\t Mean Absolute Error:  243495\n",
      "Max leaf nodes: 5000  \t\t Mean Absolute Error:  255575\n"
     ]
    }
   ],
   "source": [
    "# compare MAE with differing values of max_leaf_nodes\n",
    "for max_leaf_nodes in [5, 50, 500, 5000]:\n",
    "    my_mae = get_mae(max_leaf_nodes, train_X, val_X, train_y, val_y)\n",
    "    print(\"Max leaf nodes: %d  \\t\\t Mean Absolute Error:  %d\" %(max_leaf_nodes, my_mae))"
   ]
  },
  {
   "cell_type": "markdown",
   "id": "c42c58ce",
   "metadata": {
    "papermill": {
     "duration": 0.0034,
     "end_time": "2025-03-14T19:50:18.031169",
     "exception": false,
     "start_time": "2025-03-14T19:50:18.027769",
     "status": "completed"
    },
    "tags": []
   },
   "source": [
    "\n",
    "Of the options listed, 500 is the optimal number of leaves.\n",
    "\n",
    "---\n",
    "\n",
    "# Conclusion\n",
    "\n",
    "Here's the takeaway: Models can suffer from either:\n",
    "- **Overfitting:** capturing spurious patterns that won't recur in the future, leading to less accurate predictions, or \n",
    "- **Underfitting:** failing to capture relevant patterns, again leading to less accurate predictions. \n",
    "\n",
    "We use **validation** data, which isn't used in model training, to measure a candidate model's accuracy. This lets us try many candidate models and keep the best one. \n",
    "\n",
    "\n",
    "\n",
    "# Your Turn\n",
    "\n",
    "Try **[optimizing the model you've previously built](https://www.kaggle.com/kernels/fork/1259126)**."
   ]
  },
  {
   "cell_type": "markdown",
   "id": "239c6745",
   "metadata": {
    "papermill": {
     "duration": 0.002969,
     "end_time": "2025-03-14T19:50:18.037534",
     "exception": false,
     "start_time": "2025-03-14T19:50:18.034565",
     "status": "completed"
    },
    "tags": []
   },
   "source": [
    "---\n",
    "\n",
    "\n",
    "\n",
    "\n",
    "*Have questions or comments? Visit the [course discussion forum](https://www.kaggle.com/learn/intro-to-machine-learning/discussion) to chat with other learners.*"
   ]
  }
 ],
 "metadata": {
  "kaggle": {
   "accelerator": "none",
   "dataSources": [
    {
     "databundleVersionId": 111096,
     "sourceId": 10211,
     "sourceType": "competition"
    },
    {
     "datasetId": 11167,
     "sourceId": 15520,
     "sourceType": "datasetVersion"
    },
    {
     "datasetId": 2709,
     "sourceId": 38454,
     "sourceType": "datasetVersion"
    }
   ],
   "isGpuEnabled": false,
   "isInternetEnabled": false,
   "language": "python",
   "sourceType": "notebook"
  },
  "kernelspec": {
   "display_name": "Python 3",
   "language": "python",
   "name": "python3"
  },
  "language_info": {
   "codemirror_mode": {
    "name": "ipython",
    "version": 3
   },
   "file_extension": ".py",
   "mimetype": "text/x-python",
   "name": "python",
   "nbconvert_exporter": "python",
   "pygments_lexer": "ipython3",
   "version": "3.10.12"
  },
  "papermill": {
   "default_parameters": {},
   "duration": 7.319992,
   "end_time": "2025-03-14T19:50:18.865752",
   "environment_variables": {},
   "exception": null,
   "input_path": "__notebook__.ipynb",
   "output_path": "__notebook__.ipynb",
   "parameters": {},
   "start_time": "2025-03-14T19:50:11.545760",
   "version": "2.6.0"
  }
 },
 "nbformat": 4,
 "nbformat_minor": 5
}

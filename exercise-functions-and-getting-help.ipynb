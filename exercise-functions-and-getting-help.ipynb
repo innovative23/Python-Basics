{
 "cells": [
  {
   "cell_type": "markdown",
   "id": "d6cdd71a",
   "metadata": {
    "papermill": {
     "duration": 0.004549,
     "end_time": "2025-03-14T19:40:20.179923",
     "exception": false,
     "start_time": "2025-03-14T19:40:20.175374",
     "status": "completed"
    },
    "tags": []
   },
   "source": [
    "**This notebook is an exercise in the [Python](https://www.kaggle.com/learn/python) course.  You can reference the tutorial at [this link](https://www.kaggle.com/colinmorris/functions-and-getting-help).**\n",
    "\n",
    "---\n"
   ]
  },
  {
   "cell_type": "markdown",
   "id": "9af9f483",
   "metadata": {
    "papermill": {
     "duration": 0.003481,
     "end_time": "2025-03-14T19:40:20.187424",
     "exception": false,
     "start_time": "2025-03-14T19:40:20.183943",
     "status": "completed"
    },
    "tags": []
   },
   "source": [
    "Functions are powerful. Try writing some yourself.\n",
    "\n",
    "As before, don't forget to run the setup code below before jumping into question 1."
   ]
  },
  {
   "cell_type": "code",
   "execution_count": 1,
   "id": "6cc14be8",
   "metadata": {
    "_kg_hide-input": true,
    "_kg_hide-output": true,
    "execution": {
     "iopub.execute_input": "2025-03-14T19:40:20.196094Z",
     "iopub.status.busy": "2025-03-14T19:40:20.195718Z",
     "iopub.status.idle": "2025-03-14T19:40:21.066106Z",
     "shell.execute_reply": "2025-03-14T19:40:21.064849Z"
    },
    "papermill": {
     "duration": 0.877085,
     "end_time": "2025-03-14T19:40:21.068289",
     "exception": false,
     "start_time": "2025-03-14T19:40:20.191204",
     "status": "completed"
    },
    "tags": []
   },
   "outputs": [
    {
     "name": "stdout",
     "output_type": "stream",
     "text": [
      "Setup complete.\n"
     ]
    }
   ],
   "source": [
    "# SETUP. You don't need to worry for now about what this code does or how it works.\n",
    "from learntools.core import binder; binder.bind(globals())\n",
    "from learntools.python.ex2 import *\n",
    "print('Setup complete.')"
   ]
  },
  {
   "cell_type": "markdown",
   "id": "030a7002",
   "metadata": {
    "papermill": {
     "duration": 0.003711,
     "end_time": "2025-03-14T19:40:21.076472",
     "exception": false,
     "start_time": "2025-03-14T19:40:21.072761",
     "status": "completed"
    },
    "tags": []
   },
   "source": [
    "# 1.\n",
    "\n",
    "Complete the body of the following function according to its docstring.\n",
    "\n",
    "HINT: Python has a built-in function `round`."
   ]
  },
  {
   "cell_type": "code",
   "execution_count": 2,
   "id": "3c699614",
   "metadata": {
    "execution": {
     "iopub.execute_input": "2025-03-14T19:40:21.085848Z",
     "iopub.status.busy": "2025-03-14T19:40:21.085396Z",
     "iopub.status.idle": "2025-03-14T19:40:21.094040Z",
     "shell.execute_reply": "2025-03-14T19:40:21.093068Z"
    },
    "papermill": {
     "duration": 0.01507,
     "end_time": "2025-03-14T19:40:21.095418",
     "exception": false,
     "start_time": "2025-03-14T19:40:21.080348",
     "status": "completed"
    },
    "tags": []
   },
   "outputs": [
    {
     "data": {
      "application/javascript": [
       "parent.postMessage({\"jupyterEvent\": \"custom.exercise_interaction\", \"data\": {\"outcomeType\": 1, \"valueTowardsCompletion\": 0.16666666666666666, \"interactionType\": 1, \"questionType\": 2, \"questionId\": \"1_RoundFunctionProblem\", \"learnToolsVersion\": \"0.3.4\", \"failureMessage\": \"\", \"exceptionClass\": \"\", \"trace\": \"\"}}, \"*\")"
      ],
      "text/plain": [
       "<IPython.core.display.Javascript object>"
      ]
     },
     "metadata": {},
     "output_type": "display_data"
    },
    {
     "data": {
      "text/markdown": [
       "<span style=\"color:#33cc33\">Correct</span>"
      ],
      "text/plain": [
       "Correct"
      ]
     },
     "metadata": {},
     "output_type": "display_data"
    }
   ],
   "source": [
    "def round_to_two_places(num):\n",
    "    \"\"\"Return the given number rounded to two decimal places. \n",
    "    \n",
    "    >>> round_to_two_places(3.14159)\n",
    "    3.14\n",
    "    \"\"\"\n",
    "    # Replace this body with your own code.\n",
    "    # (\"pass\" is a keyword that does literally nothing. We used it as a placeholder\n",
    "    # because after we begin a code block, Python requires at least one line of code)\n",
    "    return round(num,ndigits = 2)\n",
    "\n",
    "# Check your answer\n",
    "q1.check()"
   ]
  },
  {
   "cell_type": "code",
   "execution_count": 3,
   "id": "4c9cf8b8",
   "metadata": {
    "execution": {
     "iopub.execute_input": "2025-03-14T19:40:21.105120Z",
     "iopub.status.busy": "2025-03-14T19:40:21.104747Z",
     "iopub.status.idle": "2025-03-14T19:40:21.114401Z",
     "shell.execute_reply": "2025-03-14T19:40:21.113466Z"
    },
    "papermill": {
     "duration": 0.015978,
     "end_time": "2025-03-14T19:40:21.115784",
     "exception": false,
     "start_time": "2025-03-14T19:40:21.099806",
     "status": "completed"
    },
    "tags": []
   },
   "outputs": [
    {
     "data": {
      "application/javascript": [
       "parent.postMessage({\"jupyterEvent\": \"custom.exercise_interaction\", \"data\": {\"interactionType\": 2, \"questionType\": 2, \"questionId\": \"1_RoundFunctionProblem\", \"learnToolsVersion\": \"0.3.4\", \"valueTowardsCompletion\": 0.0, \"failureMessage\": \"\", \"exceptionClass\": \"\", \"trace\": \"\", \"outcomeType\": 4}}, \"*\")"
      ],
      "text/plain": [
       "<IPython.core.display.Javascript object>"
      ]
     },
     "metadata": {},
     "output_type": "display_data"
    },
    {
     "data": {
      "text/markdown": [
       "<span style=\"color:#3366cc\">Hint:</span> Run `help(round)` in the console (or in a code cell) to learn more about the round function. You'll need to use the function's optional second argument."
      ],
      "text/plain": [
       "Hint: Run `help(round)` in the console (or in a code cell) to learn more about the round function. You'll need to use the function's optional second argument."
      ]
     },
     "metadata": {},
     "output_type": "display_data"
    },
    {
     "data": {
      "application/javascript": [
       "parent.postMessage({\"jupyterEvent\": \"custom.exercise_interaction\", \"data\": {\"interactionType\": 3, \"questionType\": 2, \"questionId\": \"1_RoundFunctionProblem\", \"learnToolsVersion\": \"0.3.4\", \"valueTowardsCompletion\": 0.0, \"failureMessage\": \"\", \"exceptionClass\": \"\", \"trace\": \"\", \"outcomeType\": 4}}, \"*\")"
      ],
      "text/plain": [
       "<IPython.core.display.Javascript object>"
      ]
     },
     "metadata": {},
     "output_type": "display_data"
    },
    {
     "data": {
      "text/markdown": [
       "<span style=\"color:#33cc99\">Solution:</span> \n",
       "```python\n",
       "return round(num, 2)\n",
       "```"
      ],
      "text/plain": [
       "Solution: \n",
       "```python\n",
       "return round(num, 2)\n",
       "```"
      ]
     },
     "metadata": {},
     "output_type": "display_data"
    }
   ],
   "source": [
    "# Uncomment the following for a hint\n",
    "q1.hint()\n",
    "# Or uncomment the following to peek at the solution\n",
    "q1.solution()"
   ]
  },
  {
   "cell_type": "markdown",
   "id": "41c19b27",
   "metadata": {
    "papermill": {
     "duration": 0.004477,
     "end_time": "2025-03-14T19:40:21.124880",
     "exception": false,
     "start_time": "2025-03-14T19:40:21.120403",
     "status": "completed"
    },
    "tags": []
   },
   "source": [
    "# 2.\n",
    "The help for `round` says that `ndigits` (the second argument) may be negative.\n",
    "What do you think will happen when it is? Try some examples in the following cell."
   ]
  },
  {
   "cell_type": "code",
   "execution_count": 4,
   "id": "ef271a8e",
   "metadata": {
    "execution": {
     "iopub.execute_input": "2025-03-14T19:40:21.135270Z",
     "iopub.status.busy": "2025-03-14T19:40:21.134913Z",
     "iopub.status.idle": "2025-03-14T19:40:21.140503Z",
     "shell.execute_reply": "2025-03-14T19:40:21.139561Z"
    },
    "papermill": {
     "duration": 0.012457,
     "end_time": "2025-03-14T19:40:21.141974",
     "exception": false,
     "start_time": "2025-03-14T19:40:21.129517",
     "status": "completed"
    },
    "tags": []
   },
   "outputs": [
    {
     "data": {
      "text/plain": [
       "-100.0"
      ]
     },
     "execution_count": 4,
     "metadata": {},
     "output_type": "execute_result"
    }
   ],
   "source": [
    "# Put your test code here\n",
    "round(123.01578,ndigits=-2)\n",
    "round(-147.1456,ndigits=-2)"
   ]
  },
  {
   "cell_type": "markdown",
   "id": "1d0cc24a",
   "metadata": {
    "papermill": {
     "duration": 0.004465,
     "end_time": "2025-03-14T19:40:21.151299",
     "exception": false,
     "start_time": "2025-03-14T19:40:21.146834",
     "status": "completed"
    },
    "tags": []
   },
   "source": [
    "Can you think of a case where this would be useful?  Once you're ready, run the code cell below to see the answer and to receive credit for completing the problem."
   ]
  },
  {
   "cell_type": "code",
   "execution_count": 5,
   "id": "9f4623c0",
   "metadata": {
    "execution": {
     "iopub.execute_input": "2025-03-14T19:40:21.161783Z",
     "iopub.status.busy": "2025-03-14T19:40:21.161440Z",
     "iopub.status.idle": "2025-03-14T19:40:21.168093Z",
     "shell.execute_reply": "2025-03-14T19:40:21.167165Z"
    },
    "papermill": {
     "duration": 0.013569,
     "end_time": "2025-03-14T19:40:21.169537",
     "exception": false,
     "start_time": "2025-03-14T19:40:21.155968",
     "status": "completed"
    },
    "tags": []
   },
   "outputs": [
    {
     "data": {
      "application/javascript": [
       "parent.postMessage({\"jupyterEvent\": \"custom.exercise_interaction\", \"data\": {\"interactionType\": 3, \"questionType\": 4, \"questionId\": \"2_RoundNdigitsProblem\", \"learnToolsVersion\": \"0.3.4\", \"valueTowardsCompletion\": 0.0, \"failureMessage\": \"\", \"exceptionClass\": \"\", \"trace\": \"\", \"outcomeType\": 4}}, \"*\")"
      ],
      "text/plain": [
       "<IPython.core.display.Javascript object>"
      ]
     },
     "metadata": {},
     "output_type": "display_data"
    },
    {
     "data": {
      "text/markdown": [
       "<span style=\"color:#33cc99\">Solution:</span> As you've seen, `ndigits=-1` rounds to the nearest 10, `ndigits=-2` rounds to the nearest 100 and so on. Where might this be useful? Suppose we're dealing with large numbers:\n",
       "\n",
       "> The area of Finland is 338,424 km²  \n",
       "> The area of Greenland is 2,166,086 km²\n",
       "\n",
       "We probably don't care whether it's really 338,424, or 338,425, or 338,177. All those digits of accuracy are just distracting. We can chop them off by calling `round()` with `ndigits=-3`:\n",
       "\n",
       "> The area of Finland is 338,000 km²  \n",
       "> The area of Greenland is 2,166,000 km²\n",
       "\n",
       "(We'll talk about how we would get the commas later when we talk about string formatting :))\n"
      ],
      "text/plain": [
       "Solution: As you've seen, `ndigits=-1` rounds to the nearest 10, `ndigits=-2` rounds to the nearest 100 and so on. Where might this be useful? Suppose we're dealing with large numbers:\n",
       "\n",
       "> The area of Finland is 338,424 km²  \n",
       "> The area of Greenland is 2,166,086 km²\n",
       "\n",
       "We probably don't care whether it's really 338,424, or 338,425, or 338,177. All those digits of accuracy are just distracting. We can chop them off by calling `round()` with `ndigits=-3`:\n",
       "\n",
       "> The area of Finland is 338,000 km²  \n",
       "> The area of Greenland is 2,166,000 km²\n",
       "\n",
       "(We'll talk about how we would get the commas later when we talk about string formatting :))"
      ]
     },
     "metadata": {},
     "output_type": "display_data"
    }
   ],
   "source": [
    "# Check your answer (Run this code cell to receive credit!)\n",
    "q2.solution()"
   ]
  },
  {
   "cell_type": "markdown",
   "id": "a703b639",
   "metadata": {
    "papermill": {
     "duration": 0.004717,
     "end_time": "2025-03-14T19:40:21.179166",
     "exception": false,
     "start_time": "2025-03-14T19:40:21.174449",
     "status": "completed"
    },
    "tags": []
   },
   "source": [
    "# 3.\n",
    "\n",
    "In the previous exercise, the candy-sharing friends Alice, Bob and Carol tried to split candies evenly. For the sake of their friendship, any candies left over would be smashed. For example, if they collectively bring home 91 candies, they'll take 30 each and smash 1.\n",
    "\n",
    "Below is a simple function that will calculate the number of candies to smash for *any* number of total candies.\n",
    "\n",
    "Modify it so that it optionally takes a second argument representing the number of friends the candies are being split between. If no second argument is provided, it should assume 3 friends, as before.\n",
    "\n",
    "Update the docstring to reflect this new behaviour."
   ]
  },
  {
   "cell_type": "code",
   "execution_count": 6,
   "id": "88f48632",
   "metadata": {
    "execution": {
     "iopub.execute_input": "2025-03-14T19:40:21.190002Z",
     "iopub.status.busy": "2025-03-14T19:40:21.189619Z",
     "iopub.status.idle": "2025-03-14T19:40:21.196633Z",
     "shell.execute_reply": "2025-03-14T19:40:21.195701Z"
    },
    "papermill": {
     "duration": 0.014188,
     "end_time": "2025-03-14T19:40:21.198211",
     "exception": false,
     "start_time": "2025-03-14T19:40:21.184023",
     "status": "completed"
    },
    "tags": []
   },
   "outputs": [
    {
     "data": {
      "application/javascript": [
       "parent.postMessage({\"jupyterEvent\": \"custom.exercise_interaction\", \"data\": {\"outcomeType\": 1, \"valueTowardsCompletion\": 0.16666666666666666, \"interactionType\": 1, \"questionType\": 2, \"questionId\": \"3_CandySmashingFunctionProblem\", \"learnToolsVersion\": \"0.3.4\", \"failureMessage\": \"\", \"exceptionClass\": \"\", \"trace\": \"\"}}, \"*\")"
      ],
      "text/plain": [
       "<IPython.core.display.Javascript object>"
      ]
     },
     "metadata": {},
     "output_type": "display_data"
    },
    {
     "data": {
      "text/markdown": [
       "<span style=\"color:#33cc33\">Correct</span>"
      ],
      "text/plain": [
       "Correct"
      ]
     },
     "metadata": {},
     "output_type": "display_data"
    }
   ],
   "source": [
    "def to_smash(total_candies, number_of_friends = 3):\n",
    "    \"\"\"Return the number of leftover candies that must be smashed after distributing\n",
    "    the given number of candies evenly between 3 friends.\n",
    "    \n",
    "    >>> to_smash(91)\n",
    "    1\n",
    "    \"\"\"\n",
    "    return total_candies % number_of_friends\n",
    "\n",
    "# Check your answer\n",
    "q3.check()"
   ]
  },
  {
   "cell_type": "code",
   "execution_count": 7,
   "id": "929c3aeb",
   "metadata": {
    "execution": {
     "iopub.execute_input": "2025-03-14T19:40:21.209424Z",
     "iopub.status.busy": "2025-03-14T19:40:21.209095Z",
     "iopub.status.idle": "2025-03-14T19:40:21.215827Z",
     "shell.execute_reply": "2025-03-14T19:40:21.214925Z"
    },
    "papermill": {
     "duration": 0.014098,
     "end_time": "2025-03-14T19:40:21.217336",
     "exception": false,
     "start_time": "2025-03-14T19:40:21.203238",
     "status": "completed"
    },
    "tags": []
   },
   "outputs": [
    {
     "data": {
      "application/javascript": [
       "parent.postMessage({\"jupyterEvent\": \"custom.exercise_interaction\", \"data\": {\"interactionType\": 2, \"questionType\": 2, \"questionId\": \"3_CandySmashingFunctionProblem\", \"learnToolsVersion\": \"0.3.4\", \"valueTowardsCompletion\": 0.0, \"failureMessage\": \"\", \"exceptionClass\": \"\", \"trace\": \"\", \"outcomeType\": 4}}, \"*\")"
      ],
      "text/plain": [
       "<IPython.core.display.Javascript object>"
      ]
     },
     "metadata": {},
     "output_type": "display_data"
    },
    {
     "data": {
      "text/markdown": [
       "<span style=\"color:#3366cc\">Hint:</span> Refer to the section of the last tutorial notebook where we talked about default arguments"
      ],
      "text/plain": [
       "Hint: Refer to the section of the last tutorial notebook where we talked about default arguments"
      ]
     },
     "metadata": {},
     "output_type": "display_data"
    }
   ],
   "source": [
    "q3.hint()"
   ]
  },
  {
   "cell_type": "code",
   "execution_count": 8,
   "id": "2e35b472",
   "metadata": {
    "execution": {
     "iopub.execute_input": "2025-03-14T19:40:21.228877Z",
     "iopub.status.busy": "2025-03-14T19:40:21.228559Z",
     "iopub.status.idle": "2025-03-14T19:40:21.235063Z",
     "shell.execute_reply": "2025-03-14T19:40:21.234135Z"
    },
    "papermill": {
     "duration": 0.013889,
     "end_time": "2025-03-14T19:40:21.236525",
     "exception": false,
     "start_time": "2025-03-14T19:40:21.222636",
     "status": "completed"
    },
    "tags": []
   },
   "outputs": [
    {
     "data": {
      "application/javascript": [
       "parent.postMessage({\"jupyterEvent\": \"custom.exercise_interaction\", \"data\": {\"interactionType\": 3, \"questionType\": 2, \"questionId\": \"3_CandySmashingFunctionProblem\", \"learnToolsVersion\": \"0.3.4\", \"valueTowardsCompletion\": 0.0, \"failureMessage\": \"\", \"exceptionClass\": \"\", \"trace\": \"\", \"outcomeType\": 4}}, \"*\")"
      ],
      "text/plain": [
       "<IPython.core.display.Javascript object>"
      ]
     },
     "metadata": {},
     "output_type": "display_data"
    },
    {
     "data": {
      "text/markdown": [
       "<span style=\"color:#33cc99\">Solution:</span> \n",
       "```python\n",
       "def to_smash(total_candies, n_friends=3):\n",
       "    return total_candies % n_friends\n",
       "```"
      ],
      "text/plain": [
       "Solution: \n",
       "```python\n",
       "def to_smash(total_candies, n_friends=3):\n",
       "    return total_candies % n_friends\n",
       "```"
      ]
     },
     "metadata": {},
     "output_type": "display_data"
    }
   ],
   "source": [
    "q3.solution()"
   ]
  },
  {
   "cell_type": "markdown",
   "id": "461b2653",
   "metadata": {
    "papermill": {
     "duration": 0.005146,
     "end_time": "2025-03-14T19:40:21.247151",
     "exception": false,
     "start_time": "2025-03-14T19:40:21.242005",
     "status": "completed"
    },
    "tags": []
   },
   "source": [
    "# 4. (Optional)\n",
    "\n",
    "It may not be fun, but reading and understanding error messages will be an important part of your Python career.\n",
    "\n",
    "Each code cell below contains some commented buggy code. For each cell...\n",
    "\n",
    "1. Read the code and predict what you think will happen when it's run.\n",
    "2. Then uncomment the code and run it to see what happens. (**Tip**: In the kernel editor, you can highlight several lines and press `ctrl`+`/` to toggle commenting.)\n",
    "3. Fix the code (so that it accomplishes its intended purpose without throwing an exception)\n",
    "\n",
    "<!-- TODO: should this be autochecked? Delta is probably pretty small. -->"
   ]
  },
  {
   "cell_type": "code",
   "execution_count": 9,
   "id": "72bfdcec",
   "metadata": {
    "execution": {
     "iopub.execute_input": "2025-03-14T19:40:21.260155Z",
     "iopub.status.busy": "2025-03-14T19:40:21.259773Z",
     "iopub.status.idle": "2025-03-14T19:40:21.263354Z",
     "shell.execute_reply": "2025-03-14T19:40:21.262406Z"
    },
    "papermill": {
     "duration": 0.012223,
     "end_time": "2025-03-14T19:40:21.264769",
     "exception": false,
     "start_time": "2025-03-14T19:40:21.252546",
     "status": "completed"
    },
    "tags": []
   },
   "outputs": [],
   "source": [
    "#ruound_to_two_places(9.9999)\n",
    "#incorrect function name"
   ]
  },
  {
   "cell_type": "code",
   "execution_count": 10,
   "id": "93479e95",
   "metadata": {
    "execution": {
     "iopub.execute_input": "2025-03-14T19:40:21.277123Z",
     "iopub.status.busy": "2025-03-14T19:40:21.276759Z",
     "iopub.status.idle": "2025-03-14T19:40:21.281898Z",
     "shell.execute_reply": "2025-03-14T19:40:21.280745Z"
    },
    "papermill": {
     "duration": 0.012934,
     "end_time": "2025-03-14T19:40:21.283424",
     "exception": false,
     "start_time": "2025-03-14T19:40:21.270490",
     "status": "completed"
    },
    "tags": []
   },
   "outputs": [
    {
     "name": "stdout",
     "output_type": "stream",
     "text": [
      "5\n"
     ]
    }
   ],
   "source": [
    "x = -10\n",
    "y = 5\n",
    "# # Which of the two variables above has the smallest absolute value?\n",
    "# smallest_abs = min(abs(x, y))\n",
    "smallest_abs = min(abs(x),abs(y))\n",
    "print(smallest_abs)"
   ]
  },
  {
   "cell_type": "code",
   "execution_count": 11,
   "id": "a62970f0",
   "metadata": {
    "execution": {
     "iopub.execute_input": "2025-03-14T19:40:21.296218Z",
     "iopub.status.busy": "2025-03-14T19:40:21.295817Z",
     "iopub.status.idle": "2025-03-14T19:40:21.300949Z",
     "shell.execute_reply": "2025-03-14T19:40:21.299809Z"
    },
    "papermill": {
     "duration": 0.013262,
     "end_time": "2025-03-14T19:40:21.302534",
     "exception": false,
     "start_time": "2025-03-14T19:40:21.289272",
     "status": "completed"
    },
    "tags": []
   },
   "outputs": [
    {
     "name": "stdout",
     "output_type": "stream",
     "text": [
      "5\n"
     ]
    }
   ],
   "source": [
    "def f(x):\n",
    "    y = abs(x)\n",
    "    return y\n",
    "\n",
    "print(f(5))"
   ]
  },
  {
   "cell_type": "markdown",
   "id": "7cf4d709",
   "metadata": {
    "papermill": {
     "duration": 0.005421,
     "end_time": "2025-03-14T19:40:21.313741",
     "exception": false,
     "start_time": "2025-03-14T19:40:21.308320",
     "status": "completed"
    },
    "tags": []
   },
   "source": [
    "# Keep Going\n",
    "\n",
    "Nice job with the code. Next up, you'll learn about *conditionals*, which you'll need to **[write interesting programs](https://www.kaggle.com/colinmorris/booleans-and-conditionals)**. "
   ]
  },
  {
   "cell_type": "markdown",
   "id": "c491312c",
   "metadata": {
    "papermill": {
     "duration": 0.005237,
     "end_time": "2025-03-14T19:40:21.324666",
     "exception": false,
     "start_time": "2025-03-14T19:40:21.319429",
     "status": "completed"
    },
    "tags": []
   },
   "source": [
    "---\n",
    "\n",
    "\n",
    "\n",
    "\n",
    "*Have questions or comments? Visit the [course discussion forum](https://www.kaggle.com/learn/python/discussion) to chat with other learners.*"
   ]
  }
 ],
 "metadata": {
  "kaggle": {
   "accelerator": "none",
   "dataSources": [],
   "isGpuEnabled": false,
   "isInternetEnabled": false,
   "language": "python",
   "sourceType": "notebook"
  },
  "kernelspec": {
   "display_name": "Python 3",
   "language": "python",
   "name": "python3"
  },
  "language_info": {
   "codemirror_mode": {
    "name": "ipython",
    "version": 3
   },
   "file_extension": ".py",
   "mimetype": "text/x-python",
   "name": "python",
   "nbconvert_exporter": "python",
   "pygments_lexer": "ipython3",
   "version": "3.10.12"
  },
  "papermill": {
   "default_parameters": {},
   "duration": 4.322139,
   "end_time": "2025-03-14T19:40:21.848891",
   "environment_variables": {},
   "exception": null,
   "input_path": "__notebook__.ipynb",
   "output_path": "__notebook__.ipynb",
   "parameters": {},
   "start_time": "2025-03-14T19:40:17.526752",
   "version": "2.6.0"
  }
 },
 "nbformat": 4,
 "nbformat_minor": 5
}

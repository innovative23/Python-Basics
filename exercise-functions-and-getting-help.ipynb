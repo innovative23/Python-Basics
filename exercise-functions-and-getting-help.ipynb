{
 "cells": [
  {
   "cell_type": "markdown",
   "id": "b8e437b2",
   "metadata": {
    "papermill": {
     "duration": 0.004637,
     "end_time": "2025-03-14T19:39:03.937458",
     "exception": false,
     "start_time": "2025-03-14T19:39:03.932821",
     "status": "completed"
    },
    "tags": []
   },
   "source": [
    "**This notebook is an exercise in the [Python](https://www.kaggle.com/learn/python) course.  You can reference the tutorial at [this link](https://www.kaggle.com/colinmorris/functions-and-getting-help).**\n",
    "\n",
    "---\n"
   ]
  },
  {
   "cell_type": "markdown",
   "id": "5eaf8759",
   "metadata": {
    "papermill": {
     "duration": 0.003582,
     "end_time": "2025-03-14T19:39:03.945185",
     "exception": false,
     "start_time": "2025-03-14T19:39:03.941603",
     "status": "completed"
    },
    "tags": []
   },
   "source": [
    "Functions are powerful. Try writing some yourself.\n",
    "\n",
    "As before, don't forget to run the setup code below before jumping into question 1."
   ]
  },
  {
   "cell_type": "code",
   "execution_count": 1,
   "id": "acaeb16d",
   "metadata": {
    "_kg_hide-input": true,
    "_kg_hide-output": true,
    "execution": {
     "iopub.execute_input": "2025-03-14T19:39:03.954161Z",
     "iopub.status.busy": "2025-03-14T19:39:03.953749Z",
     "iopub.status.idle": "2025-03-14T19:39:04.907117Z",
     "shell.execute_reply": "2025-03-14T19:39:04.905726Z"
    },
    "papermill": {
     "duration": 0.959995,
     "end_time": "2025-03-14T19:39:04.909027",
     "exception": false,
     "start_time": "2025-03-14T19:39:03.949032",
     "status": "completed"
    },
    "tags": []
   },
   "outputs": [
    {
     "name": "stdout",
     "output_type": "stream",
     "text": [
      "Setup complete.\n"
     ]
    }
   ],
   "source": [
    "# SETUP. You don't need to worry for now about what this code does or how it works.\n",
    "from learntools.core import binder; binder.bind(globals())\n",
    "from learntools.python.ex2 import *\n",
    "print('Setup complete.')"
   ]
  },
  {
   "cell_type": "markdown",
   "id": "519af3f5",
   "metadata": {
    "papermill": {
     "duration": 0.005773,
     "end_time": "2025-03-14T19:39:04.919967",
     "exception": false,
     "start_time": "2025-03-14T19:39:04.914194",
     "status": "completed"
    },
    "tags": []
   },
   "source": [
    "# 1.\n",
    "\n",
    "Complete the body of the following function according to its docstring.\n",
    "\n",
    "HINT: Python has a built-in function `round`."
   ]
  },
  {
   "cell_type": "code",
   "execution_count": 2,
   "id": "c1d7bd8b",
   "metadata": {
    "execution": {
     "iopub.execute_input": "2025-03-14T19:39:04.929635Z",
     "iopub.status.busy": "2025-03-14T19:39:04.929167Z",
     "iopub.status.idle": "2025-03-14T19:39:04.938714Z",
     "shell.execute_reply": "2025-03-14T19:39:04.937487Z"
    },
    "papermill": {
     "duration": 0.016363,
     "end_time": "2025-03-14T19:39:04.940514",
     "exception": false,
     "start_time": "2025-03-14T19:39:04.924151",
     "status": "completed"
    },
    "tags": []
   },
   "outputs": [
    {
     "data": {
      "application/javascript": [
       "parent.postMessage({\"jupyterEvent\": \"custom.exercise_interaction\", \"data\": {\"outcomeType\": 1, \"valueTowardsCompletion\": 0.16666666666666666, \"interactionType\": 1, \"questionType\": 2, \"questionId\": \"1_RoundFunctionProblem\", \"learnToolsVersion\": \"0.3.4\", \"failureMessage\": \"\", \"exceptionClass\": \"\", \"trace\": \"\"}}, \"*\")"
      ],
      "text/plain": [
       "<IPython.core.display.Javascript object>"
      ]
     },
     "metadata": {},
     "output_type": "display_data"
    },
    {
     "data": {
      "text/markdown": [
       "<span style=\"color:#33cc33\">Correct</span>"
      ],
      "text/plain": [
       "Correct"
      ]
     },
     "metadata": {},
     "output_type": "display_data"
    }
   ],
   "source": [
    "def round_to_two_places(num):\n",
    "    \"\"\"Return the given number rounded to two decimal places. \n",
    "    \n",
    "    >>> round_to_two_places(3.14159)\n",
    "    3.14\n",
    "    \"\"\"\n",
    "    # Replace this body with your own code.\n",
    "    # (\"pass\" is a keyword that does literally nothing. We used it as a placeholder\n",
    "    # because after we begin a code block, Python requires at least one line of code)\n",
    "    return round(num,ndigits = 2)\n",
    "\n",
    "# Check your answer\n",
    "q1.check()"
   ]
  },
  {
   "cell_type": "code",
   "execution_count": 3,
   "id": "9e500cba",
   "metadata": {
    "execution": {
     "iopub.execute_input": "2025-03-14T19:39:04.950942Z",
     "iopub.status.busy": "2025-03-14T19:39:04.950468Z",
     "iopub.status.idle": "2025-03-14T19:39:04.962504Z",
     "shell.execute_reply": "2025-03-14T19:39:04.961360Z"
    },
    "papermill": {
     "duration": 0.019232,
     "end_time": "2025-03-14T19:39:04.964269",
     "exception": false,
     "start_time": "2025-03-14T19:39:04.945037",
     "status": "completed"
    },
    "tags": []
   },
   "outputs": [
    {
     "data": {
      "application/javascript": [
       "parent.postMessage({\"jupyterEvent\": \"custom.exercise_interaction\", \"data\": {\"interactionType\": 2, \"questionType\": 2, \"questionId\": \"1_RoundFunctionProblem\", \"learnToolsVersion\": \"0.3.4\", \"valueTowardsCompletion\": 0.0, \"failureMessage\": \"\", \"exceptionClass\": \"\", \"trace\": \"\", \"outcomeType\": 4}}, \"*\")"
      ],
      "text/plain": [
       "<IPython.core.display.Javascript object>"
      ]
     },
     "metadata": {},
     "output_type": "display_data"
    },
    {
     "data": {
      "text/markdown": [
       "<span style=\"color:#3366cc\">Hint:</span> Run `help(round)` in the console (or in a code cell) to learn more about the round function. You'll need to use the function's optional second argument."
      ],
      "text/plain": [
       "Hint: Run `help(round)` in the console (or in a code cell) to learn more about the round function. You'll need to use the function's optional second argument."
      ]
     },
     "metadata": {},
     "output_type": "display_data"
    },
    {
     "data": {
      "application/javascript": [
       "parent.postMessage({\"jupyterEvent\": \"custom.exercise_interaction\", \"data\": {\"interactionType\": 3, \"questionType\": 2, \"questionId\": \"1_RoundFunctionProblem\", \"learnToolsVersion\": \"0.3.4\", \"valueTowardsCompletion\": 0.0, \"failureMessage\": \"\", \"exceptionClass\": \"\", \"trace\": \"\", \"outcomeType\": 4}}, \"*\")"
      ],
      "text/plain": [
       "<IPython.core.display.Javascript object>"
      ]
     },
     "metadata": {},
     "output_type": "display_data"
    },
    {
     "data": {
      "text/markdown": [
       "<span style=\"color:#33cc99\">Solution:</span> \n",
       "```python\n",
       "return round(num, 2)\n",
       "```"
      ],
      "text/plain": [
       "Solution: \n",
       "```python\n",
       "return round(num, 2)\n",
       "```"
      ]
     },
     "metadata": {},
     "output_type": "display_data"
    }
   ],
   "source": [
    "# Uncomment the following for a hint\n",
    "q1.hint()\n",
    "# Or uncomment the following to peek at the solution\n",
    "q1.solution()"
   ]
  },
  {
   "cell_type": "markdown",
   "id": "fa417081",
   "metadata": {
    "papermill": {
     "duration": 0.00452,
     "end_time": "2025-03-14T19:39:04.973706",
     "exception": false,
     "start_time": "2025-03-14T19:39:04.969186",
     "status": "completed"
    },
    "tags": []
   },
   "source": [
    "# 2.\n",
    "The help for `round` says that `ndigits` (the second argument) may be negative.\n",
    "What do you think will happen when it is? Try some examples in the following cell."
   ]
  },
  {
   "cell_type": "code",
   "execution_count": 4,
   "id": "3be4feb4",
   "metadata": {
    "execution": {
     "iopub.execute_input": "2025-03-14T19:39:04.984714Z",
     "iopub.status.busy": "2025-03-14T19:39:04.984261Z",
     "iopub.status.idle": "2025-03-14T19:39:04.991220Z",
     "shell.execute_reply": "2025-03-14T19:39:04.990186Z"
    },
    "papermill": {
     "duration": 0.014244,
     "end_time": "2025-03-14T19:39:04.992788",
     "exception": false,
     "start_time": "2025-03-14T19:39:04.978544",
     "status": "completed"
    },
    "tags": []
   },
   "outputs": [
    {
     "data": {
      "text/plain": [
       "-100.0"
      ]
     },
     "execution_count": 4,
     "metadata": {},
     "output_type": "execute_result"
    }
   ],
   "source": [
    "# Put your test code here\n",
    "round(123.01578,ndigits=-2)\n",
    "round(-147.1456,ndigits=-2)"
   ]
  },
  {
   "cell_type": "markdown",
   "id": "4f3eb9e5",
   "metadata": {
    "papermill": {
     "duration": 0.00513,
     "end_time": "2025-03-14T19:39:05.002825",
     "exception": false,
     "start_time": "2025-03-14T19:39:04.997695",
     "status": "completed"
    },
    "tags": []
   },
   "source": [
    "Can you think of a case where this would be useful?  Once you're ready, run the code cell below to see the answer and to receive credit for completing the problem."
   ]
  },
  {
   "cell_type": "code",
   "execution_count": 5,
   "id": "c17c7eb6",
   "metadata": {
    "execution": {
     "iopub.execute_input": "2025-03-14T19:39:05.014094Z",
     "iopub.status.busy": "2025-03-14T19:39:05.013620Z",
     "iopub.status.idle": "2025-03-14T19:39:05.021796Z",
     "shell.execute_reply": "2025-03-14T19:39:05.020818Z"
    },
    "papermill": {
     "duration": 0.015886,
     "end_time": "2025-03-14T19:39:05.023692",
     "exception": false,
     "start_time": "2025-03-14T19:39:05.007806",
     "status": "completed"
    },
    "tags": []
   },
   "outputs": [
    {
     "data": {
      "application/javascript": [
       "parent.postMessage({\"jupyterEvent\": \"custom.exercise_interaction\", \"data\": {\"interactionType\": 3, \"questionType\": 4, \"questionId\": \"2_RoundNdigitsProblem\", \"learnToolsVersion\": \"0.3.4\", \"valueTowardsCompletion\": 0.0, \"failureMessage\": \"\", \"exceptionClass\": \"\", \"trace\": \"\", \"outcomeType\": 4}}, \"*\")"
      ],
      "text/plain": [
       "<IPython.core.display.Javascript object>"
      ]
     },
     "metadata": {},
     "output_type": "display_data"
    },
    {
     "data": {
      "text/markdown": [
       "<span style=\"color:#33cc99\">Solution:</span> As you've seen, `ndigits=-1` rounds to the nearest 10, `ndigits=-2` rounds to the nearest 100 and so on. Where might this be useful? Suppose we're dealing with large numbers:\n",
       "\n",
       "> The area of Finland is 338,424 km²  \n",
       "> The area of Greenland is 2,166,086 km²\n",
       "\n",
       "We probably don't care whether it's really 338,424, or 338,425, or 338,177. All those digits of accuracy are just distracting. We can chop them off by calling `round()` with `ndigits=-3`:\n",
       "\n",
       "> The area of Finland is 338,000 km²  \n",
       "> The area of Greenland is 2,166,000 km²\n",
       "\n",
       "(We'll talk about how we would get the commas later when we talk about string formatting :))\n"
      ],
      "text/plain": [
       "Solution: As you've seen, `ndigits=-1` rounds to the nearest 10, `ndigits=-2` rounds to the nearest 100 and so on. Where might this be useful? Suppose we're dealing with large numbers:\n",
       "\n",
       "> The area of Finland is 338,424 km²  \n",
       "> The area of Greenland is 2,166,086 km²\n",
       "\n",
       "We probably don't care whether it's really 338,424, or 338,425, or 338,177. All those digits of accuracy are just distracting. We can chop them off by calling `round()` with `ndigits=-3`:\n",
       "\n",
       "> The area of Finland is 338,000 km²  \n",
       "> The area of Greenland is 2,166,000 km²\n",
       "\n",
       "(We'll talk about how we would get the commas later when we talk about string formatting :))"
      ]
     },
     "metadata": {},
     "output_type": "display_data"
    }
   ],
   "source": [
    "# Check your answer (Run this code cell to receive credit!)\n",
    "q2.solution()"
   ]
  },
  {
   "cell_type": "markdown",
   "id": "ef325250",
   "metadata": {
    "papermill": {
     "duration": 0.005164,
     "end_time": "2025-03-14T19:39:05.038409",
     "exception": false,
     "start_time": "2025-03-14T19:39:05.033245",
     "status": "completed"
    },
    "tags": []
   },
   "source": [
    "# 3.\n",
    "\n",
    "In the previous exercise, the candy-sharing friends Alice, Bob and Carol tried to split candies evenly. For the sake of their friendship, any candies left over would be smashed. For example, if they collectively bring home 91 candies, they'll take 30 each and smash 1.\n",
    "\n",
    "Below is a simple function that will calculate the number of candies to smash for *any* number of total candies.\n",
    "\n",
    "Modify it so that it optionally takes a second argument representing the number of friends the candies are being split between. If no second argument is provided, it should assume 3 friends, as before.\n",
    "\n",
    "Update the docstring to reflect this new behaviour."
   ]
  },
  {
   "cell_type": "code",
   "execution_count": 6,
   "id": "f151c4ca",
   "metadata": {
    "execution": {
     "iopub.execute_input": "2025-03-14T19:39:05.050104Z",
     "iopub.status.busy": "2025-03-14T19:39:05.049614Z",
     "iopub.status.idle": "2025-03-14T19:39:05.058492Z",
     "shell.execute_reply": "2025-03-14T19:39:05.057521Z"
    },
    "papermill": {
     "duration": 0.01658,
     "end_time": "2025-03-14T19:39:05.060098",
     "exception": false,
     "start_time": "2025-03-14T19:39:05.043518",
     "status": "completed"
    },
    "tags": []
   },
   "outputs": [
    {
     "data": {
      "application/javascript": [
       "parent.postMessage({\"jupyterEvent\": \"custom.exercise_interaction\", \"data\": {\"outcomeType\": 1, \"valueTowardsCompletion\": 0.16666666666666666, \"interactionType\": 1, \"questionType\": 2, \"questionId\": \"3_CandySmashingFunctionProblem\", \"learnToolsVersion\": \"0.3.4\", \"failureMessage\": \"\", \"exceptionClass\": \"\", \"trace\": \"\"}}, \"*\")"
      ],
      "text/plain": [
       "<IPython.core.display.Javascript object>"
      ]
     },
     "metadata": {},
     "output_type": "display_data"
    },
    {
     "data": {
      "text/markdown": [
       "<span style=\"color:#33cc33\">Correct</span>"
      ],
      "text/plain": [
       "Correct"
      ]
     },
     "metadata": {},
     "output_type": "display_data"
    }
   ],
   "source": [
    "def to_smash(total_candies, number_of_friends = 3):\n",
    "    \"\"\"Return the number of leftover candies that must be smashed after distributing\n",
    "    the given number of candies evenly between 3 friends.\n",
    "    \n",
    "    >>> to_smash(91)\n",
    "    1\n",
    "    \"\"\"\n",
    "    return total_candies % number_of_friends\n",
    "\n",
    "# Check your answer\n",
    "q3.check()"
   ]
  },
  {
   "cell_type": "code",
   "execution_count": 7,
   "id": "6d6e55f5",
   "metadata": {
    "execution": {
     "iopub.execute_input": "2025-03-14T19:39:05.072019Z",
     "iopub.status.busy": "2025-03-14T19:39:05.071620Z",
     "iopub.status.idle": "2025-03-14T19:39:05.078455Z",
     "shell.execute_reply": "2025-03-14T19:39:05.077523Z"
    },
    "papermill": {
     "duration": 0.014912,
     "end_time": "2025-03-14T19:39:05.080343",
     "exception": false,
     "start_time": "2025-03-14T19:39:05.065431",
     "status": "completed"
    },
    "tags": []
   },
   "outputs": [
    {
     "data": {
      "application/javascript": [
       "parent.postMessage({\"jupyterEvent\": \"custom.exercise_interaction\", \"data\": {\"interactionType\": 2, \"questionType\": 2, \"questionId\": \"3_CandySmashingFunctionProblem\", \"learnToolsVersion\": \"0.3.4\", \"valueTowardsCompletion\": 0.0, \"failureMessage\": \"\", \"exceptionClass\": \"\", \"trace\": \"\", \"outcomeType\": 4}}, \"*\")"
      ],
      "text/plain": [
       "<IPython.core.display.Javascript object>"
      ]
     },
     "metadata": {},
     "output_type": "display_data"
    },
    {
     "data": {
      "text/markdown": [
       "<span style=\"color:#3366cc\">Hint:</span> Refer to the section of the last tutorial notebook where we talked about default arguments"
      ],
      "text/plain": [
       "Hint: Refer to the section of the last tutorial notebook where we talked about default arguments"
      ]
     },
     "metadata": {},
     "output_type": "display_data"
    }
   ],
   "source": [
    "q3.hint()"
   ]
  },
  {
   "cell_type": "code",
   "execution_count": 8,
   "id": "d9621a17",
   "metadata": {
    "execution": {
     "iopub.execute_input": "2025-03-14T19:39:05.098181Z",
     "iopub.status.busy": "2025-03-14T19:39:05.097683Z",
     "iopub.status.idle": "2025-03-14T19:39:05.106020Z",
     "shell.execute_reply": "2025-03-14T19:39:05.104944Z"
    },
    "papermill": {
     "duration": 0.017487,
     "end_time": "2025-03-14T19:39:05.107805",
     "exception": false,
     "start_time": "2025-03-14T19:39:05.090318",
     "status": "completed"
    },
    "tags": []
   },
   "outputs": [
    {
     "data": {
      "application/javascript": [
       "parent.postMessage({\"jupyterEvent\": \"custom.exercise_interaction\", \"data\": {\"interactionType\": 3, \"questionType\": 2, \"questionId\": \"3_CandySmashingFunctionProblem\", \"learnToolsVersion\": \"0.3.4\", \"valueTowardsCompletion\": 0.0, \"failureMessage\": \"\", \"exceptionClass\": \"\", \"trace\": \"\", \"outcomeType\": 4}}, \"*\")"
      ],
      "text/plain": [
       "<IPython.core.display.Javascript object>"
      ]
     },
     "metadata": {},
     "output_type": "display_data"
    },
    {
     "data": {
      "text/markdown": [
       "<span style=\"color:#33cc99\">Solution:</span> \n",
       "```python\n",
       "def to_smash(total_candies, n_friends=3):\n",
       "    return total_candies % n_friends\n",
       "```"
      ],
      "text/plain": [
       "Solution: \n",
       "```python\n",
       "def to_smash(total_candies, n_friends=3):\n",
       "    return total_candies % n_friends\n",
       "```"
      ]
     },
     "metadata": {},
     "output_type": "display_data"
    }
   ],
   "source": [
    "q3.solution()"
   ]
  },
  {
   "cell_type": "markdown",
   "id": "15c8b36e",
   "metadata": {
    "papermill": {
     "duration": 0.005993,
     "end_time": "2025-03-14T19:39:05.120120",
     "exception": false,
     "start_time": "2025-03-14T19:39:05.114127",
     "status": "completed"
    },
    "tags": []
   },
   "source": [
    "# 4. (Optional)\n",
    "\n",
    "It may not be fun, but reading and understanding error messages will be an important part of your Python career.\n",
    "\n",
    "Each code cell below contains some commented buggy code. For each cell...\n",
    "\n",
    "1. Read the code and predict what you think will happen when it's run.\n",
    "2. Then uncomment the code and run it to see what happens. (**Tip**: In the kernel editor, you can highlight several lines and press `ctrl`+`/` to toggle commenting.)\n",
    "3. Fix the code (so that it accomplishes its intended purpose without throwing an exception)\n",
    "\n",
    "<!-- TODO: should this be autochecked? Delta is probably pretty small. -->"
   ]
  },
  {
   "cell_type": "code",
   "execution_count": 9,
   "id": "55173aa0",
   "metadata": {
    "execution": {
     "iopub.execute_input": "2025-03-14T19:39:05.133258Z",
     "iopub.status.busy": "2025-03-14T19:39:05.132772Z",
     "iopub.status.idle": "2025-03-14T19:39:05.136983Z",
     "shell.execute_reply": "2025-03-14T19:39:05.135959Z"
    },
    "papermill": {
     "duration": 0.012977,
     "end_time": "2025-03-14T19:39:05.138961",
     "exception": false,
     "start_time": "2025-03-14T19:39:05.125984",
     "status": "completed"
    },
    "tags": []
   },
   "outputs": [],
   "source": [
    "#ruound_to_two_places(9.9999)\n",
    "#incorrect function name"
   ]
  },
  {
   "cell_type": "code",
   "execution_count": 10,
   "id": "549963eb",
   "metadata": {
    "execution": {
     "iopub.execute_input": "2025-03-14T19:39:05.160650Z",
     "iopub.status.busy": "2025-03-14T19:39:05.160183Z",
     "iopub.status.idle": "2025-03-14T19:39:05.166211Z",
     "shell.execute_reply": "2025-03-14T19:39:05.165066Z"
    },
    "papermill": {
     "duration": 0.018828,
     "end_time": "2025-03-14T19:39:05.168207",
     "exception": false,
     "start_time": "2025-03-14T19:39:05.149379",
     "status": "completed"
    },
    "tags": []
   },
   "outputs": [
    {
     "name": "stdout",
     "output_type": "stream",
     "text": [
      "5\n"
     ]
    }
   ],
   "source": [
    "x = -10\n",
    "y = 5\n",
    "# # Which of the two variables above has the smallest absolute value?\n",
    "# smallest_abs = min(abs(x, y))\n",
    "smallest_abs = min(abs(x),abs(y))\n",
    "print(smallest_abs)"
   ]
  },
  {
   "cell_type": "code",
   "execution_count": 11,
   "id": "5515502f",
   "metadata": {
    "execution": {
     "iopub.execute_input": "2025-03-14T19:39:05.187282Z",
     "iopub.status.busy": "2025-03-14T19:39:05.186792Z",
     "iopub.status.idle": "2025-03-14T19:39:05.192916Z",
     "shell.execute_reply": "2025-03-14T19:39:05.191772Z"
    },
    "papermill": {
     "duration": 0.015902,
     "end_time": "2025-03-14T19:39:05.194565",
     "exception": false,
     "start_time": "2025-03-14T19:39:05.178663",
     "status": "completed"
    },
    "tags": []
   },
   "outputs": [
    {
     "name": "stdout",
     "output_type": "stream",
     "text": [
      "5\n"
     ]
    }
   ],
   "source": [
    "def f(x):\n",
    "    y = abs(x)\n",
    "    return y\n",
    "\n",
    "print(f(5))"
   ]
  },
  {
   "cell_type": "markdown",
   "id": "84e6bcc3",
   "metadata": {
    "papermill": {
     "duration": 0.005504,
     "end_time": "2025-03-14T19:39:05.205932",
     "exception": false,
     "start_time": "2025-03-14T19:39:05.200428",
     "status": "completed"
    },
    "tags": []
   },
   "source": [
    "# Keep Going\n",
    "\n",
    "Nice job with the code. Next up, you'll learn about *conditionals*, which you'll need to **[write interesting programs](https://www.kaggle.com/colinmorris/booleans-and-conditionals)**. "
   ]
  },
  {
   "cell_type": "markdown",
   "id": "7fb90baf",
   "metadata": {
    "papermill": {
     "duration": 0.005463,
     "end_time": "2025-03-14T19:39:05.217244",
     "exception": false,
     "start_time": "2025-03-14T19:39:05.211781",
     "status": "completed"
    },
    "tags": []
   },
   "source": [
    "---\n",
    "\n",
    "\n",
    "\n",
    "\n",
    "*Have questions or comments? Visit the [course discussion forum](https://www.kaggle.com/learn/python/discussion) to chat with other learners.*"
   ]
  }
 ],
 "metadata": {
  "kaggle": {
   "accelerator": "none",
   "dataSources": [],
   "isGpuEnabled": false,
   "isInternetEnabled": false,
   "language": "python",
   "sourceType": "notebook"
  },
  "kernelspec": {
   "display_name": "Python 3",
   "language": "python",
   "name": "python3"
  },
  "language_info": {
   "codemirror_mode": {
    "name": "ipython",
    "version": 3
   },
   "file_extension": ".py",
   "mimetype": "text/x-python",
   "name": "python",
   "nbconvert_exporter": "python",
   "pygments_lexer": "ipython3",
   "version": "3.10.12"
  },
  "papermill": {
   "default_parameters": {},
   "duration": 4.570241,
   "end_time": "2025-03-14T19:39:05.742945",
   "environment_variables": {},
   "exception": null,
   "input_path": "__notebook__.ipynb",
   "output_path": "__notebook__.ipynb",
   "parameters": {},
   "start_time": "2025-03-14T19:39:01.172704",
   "version": "2.6.0"
  }
 },
 "nbformat": 4,
 "nbformat_minor": 5
}

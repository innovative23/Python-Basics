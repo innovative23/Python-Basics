{
 "cells": [
  {
   "cell_type": "markdown",
   "id": "39413512",
   "metadata": {
    "papermill": {
     "duration": 0.007716,
     "end_time": "2025-03-14T19:32:44.677789",
     "exception": false,
     "start_time": "2025-03-14T19:32:44.670073",
     "status": "completed"
    },
    "tags": []
   },
   "source": [
    "This course covers the key Python skills you’ll need so you can start using Python for data science. \n",
    "\n",
    "We'll start with a brief overview of Python syntax, variable assignment, and arithmetic operators. If you have previous Python experience, you can [skip straight to the hands-on exercise](https://www.kaggle.com/kernels/fork/1275163)."
   ]
  },
  {
   "cell_type": "markdown",
   "id": "cc58eefd",
   "metadata": {
    "papermill": {
     "duration": 0.006459,
     "end_time": "2025-03-14T19:32:44.691799",
     "exception": false,
     "start_time": "2025-03-14T19:32:44.685340",
     "status": "completed"
    },
    "tags": []
   },
   "source": [
    "# Hello, Python!\n",
    "\n",
    "Python was named for the British comedy troupe [Monty Python](https://en.wikipedia.org/wiki/Monty_Python), so we'll make our first Python program a homage to their skit about [Spam](https://en.wikipedia.org/wiki/Spam_(food)).\n",
    "\n",
    "Just for fun, try reading over the code below and predicting what it's going to do when run. (If you have no idea, that's fine!)\n",
    "\n",
    "Then click the \"output\" button to see the results of our program."
   ]
  },
  {
   "cell_type": "code",
   "execution_count": 1,
   "id": "b05df1e5",
   "metadata": {
    "_kg_hide-output": true,
    "execution": {
     "iopub.execute_input": "2025-03-14T19:32:44.706967Z",
     "iopub.status.busy": "2025-03-14T19:32:44.706453Z",
     "iopub.status.idle": "2025-03-14T19:32:44.713614Z",
     "shell.execute_reply": "2025-03-14T19:32:44.712221Z"
    },
    "papermill": {
     "duration": 0.016666,
     "end_time": "2025-03-14T19:32:44.715297",
     "exception": false,
     "start_time": "2025-03-14T19:32:44.698631",
     "status": "completed"
    },
    "tags": []
   },
   "outputs": [
    {
     "name": "stdout",
     "output_type": "stream",
     "text": [
      "0\n",
      "But I don't want ANY spam!\n",
      "Spam Spam Spam Spam \n"
     ]
    }
   ],
   "source": [
    "spam_amount = 0\n",
    "print(spam_amount)\n",
    "\n",
    "# Ordering Spam, egg, Spam, Spam, bacon and Spam (4 more servings of Spam)\n",
    "spam_amount = spam_amount + 4\n",
    "\n",
    "if spam_amount > 0:\n",
    "    print(\"But I don't want ANY spam!\")\n",
    "\n",
    "viking_song = \"Spam \" * spam_amount\n",
    "print(viking_song)"
   ]
  },
  {
   "cell_type": "markdown",
   "id": "51c3632d",
   "metadata": {
    "papermill": {
     "duration": 0.006607,
     "end_time": "2025-03-14T19:32:44.729081",
     "exception": false,
     "start_time": "2025-03-14T19:32:44.722474",
     "status": "completed"
    },
    "tags": []
   },
   "source": [
    "There's a lot to unpack here! This silly program demonstrates many important aspects of what Python code looks like and how it works. Let's review the code from top to bottom."
   ]
  },
  {
   "cell_type": "code",
   "execution_count": 2,
   "id": "c547eb7c",
   "metadata": {
    "execution": {
     "iopub.execute_input": "2025-03-14T19:32:44.744019Z",
     "iopub.status.busy": "2025-03-14T19:32:44.743672Z",
     "iopub.status.idle": "2025-03-14T19:32:44.747810Z",
     "shell.execute_reply": "2025-03-14T19:32:44.746719Z"
    },
    "papermill": {
     "duration": 0.013556,
     "end_time": "2025-03-14T19:32:44.749480",
     "exception": false,
     "start_time": "2025-03-14T19:32:44.735924",
     "status": "completed"
    },
    "tags": []
   },
   "outputs": [],
   "source": [
    "spam_amount = 0"
   ]
  },
  {
   "cell_type": "markdown",
   "id": "58c8ec9c",
   "metadata": {
    "papermill": {
     "duration": 0.006624,
     "end_time": "2025-03-14T19:32:44.763343",
     "exception": false,
     "start_time": "2025-03-14T19:32:44.756719",
     "status": "completed"
    },
    "tags": []
   },
   "source": [
    "**Variable assignment:** Here we create a variable called `spam_amount` and assign it the value of 0 using `=`, which is called the assignment operator.\n",
    "\n",
    "> **Note**: If you've programmed in certain other languages (like Java or C++), you might be noticing some things Python *doesn't* require us to do here:  \n",
    "- we don't need to \"declare\" `spam_amount` before assigning to it\n",
    "- we don't need to tell Python what type of value `spam_amount` is going to refer to. In fact, we can even go on to reassign `spam_amount` to refer to a different sort of thing like a string or a boolean."
   ]
  },
  {
   "cell_type": "code",
   "execution_count": 3,
   "id": "b50cdaaa",
   "metadata": {
    "_kg_hide-output": false,
    "execution": {
     "iopub.execute_input": "2025-03-14T19:32:44.778192Z",
     "iopub.status.busy": "2025-03-14T19:32:44.777856Z",
     "iopub.status.idle": "2025-03-14T19:32:44.782964Z",
     "shell.execute_reply": "2025-03-14T19:32:44.781695Z"
    },
    "papermill": {
     "duration": 0.014423,
     "end_time": "2025-03-14T19:32:44.784575",
     "exception": false,
     "start_time": "2025-03-14T19:32:44.770152",
     "status": "completed"
    },
    "tags": []
   },
   "outputs": [
    {
     "name": "stdout",
     "output_type": "stream",
     "text": [
      "0\n",
      "Sample Print\n"
     ]
    }
   ],
   "source": [
    "print(spam_amount)\n",
    "print(\"Sample Print\")"
   ]
  },
  {
   "cell_type": "markdown",
   "id": "11ebd0f7",
   "metadata": {
    "papermill": {
     "duration": 0.006634,
     "end_time": "2025-03-14T19:32:44.798194",
     "exception": false,
     "start_time": "2025-03-14T19:32:44.791560",
     "status": "completed"
    },
    "tags": []
   },
   "source": [
    "**Function calls:**. `print` is a Python function that displays the value passed to it on the screen. We call functions by putting parentheses after their name, and putting the inputs (or *arguments*) to the function in those parentheses."
   ]
  },
  {
   "cell_type": "code",
   "execution_count": 4,
   "id": "8a2a8ec2",
   "metadata": {
    "_kg_hide-output": false,
    "execution": {
     "iopub.execute_input": "2025-03-14T19:32:44.813368Z",
     "iopub.status.busy": "2025-03-14T19:32:44.813034Z",
     "iopub.status.idle": "2025-03-14T19:32:44.817244Z",
     "shell.execute_reply": "2025-03-14T19:32:44.816182Z"
    },
    "papermill": {
     "duration": 0.013907,
     "end_time": "2025-03-14T19:32:44.819109",
     "exception": false,
     "start_time": "2025-03-14T19:32:44.805202",
     "status": "completed"
    },
    "tags": []
   },
   "outputs": [],
   "source": [
    "# Ordering Spam, egg, Spam, Spam, bacon and Spam (4 more servings of Spam)\n",
    "spam_amount = spam_amount + 4"
   ]
  },
  {
   "cell_type": "markdown",
   "id": "a37211a6",
   "metadata": {
    "papermill": {
     "duration": 0.006613,
     "end_time": "2025-03-14T19:32:44.833133",
     "exception": false,
     "start_time": "2025-03-14T19:32:44.826520",
     "status": "completed"
    },
    "tags": []
   },
   "source": [
    "The first line above is a **comment**. In Python, comments begin with the `#` symbol.\n",
    "\n",
    "Next we see an example of reassignment. Reassigning the value of an existing variable looks just the same as creating a variable - it still uses the `=` assignment operator.\n",
    "\n",
    "In this case, the value we're assigning to `spam_amount` involves some simple arithmetic on its previous value. When it encounters this line, Python evaluates the expression on the right-hand-side of the `=` (0 + 4 = 4), and then assigns that value to the variable on the left-hand-side."
   ]
  },
  {
   "cell_type": "code",
   "execution_count": 5,
   "id": "719faba0",
   "metadata": {
    "_kg_hide-output": false,
    "execution": {
     "iopub.execute_input": "2025-03-14T19:32:44.848039Z",
     "iopub.status.busy": "2025-03-14T19:32:44.847652Z",
     "iopub.status.idle": "2025-03-14T19:32:44.852717Z",
     "shell.execute_reply": "2025-03-14T19:32:44.851566Z"
    },
    "papermill": {
     "duration": 0.014379,
     "end_time": "2025-03-14T19:32:44.854383",
     "exception": false,
     "start_time": "2025-03-14T19:32:44.840004",
     "status": "completed"
    },
    "tags": []
   },
   "outputs": [
    {
     "name": "stdout",
     "output_type": "stream",
     "text": [
      "But I don't want ANY spam!\n",
      "Spam Spam Spam\n"
     ]
    }
   ],
   "source": [
    "if spam_amount > 0:\n",
    "    print(\"But I don't want ANY spam!\")\n",
    "\n",
    "viking_song = \"Spam Spam Spam\"\n",
    "print(viking_song)"
   ]
  },
  {
   "cell_type": "markdown",
   "id": "61347a46",
   "metadata": {
    "papermill": {
     "duration": 0.006688,
     "end_time": "2025-03-14T19:32:44.868368",
     "exception": false,
     "start_time": "2025-03-14T19:32:44.861680",
     "status": "completed"
    },
    "tags": []
   },
   "source": [
    "We won't talk much about \"conditionals\" until later, but, even if you've never coded before, you can probably guess what this does. Python is prized for its readability and the simplicity. \n",
    "\n",
    "Note how we indicated which code belongs to the `if`. `\"But I don't want ANY spam!\"` is only supposed to be printed if `spam_amount` is positive. But the later code (like `print(viking_song)`) should be executed no matter what. How do we (and Python) know that?\n",
    "\n",
    "The colon (`:`) at the end of the `if` line indicates that a new **code block** is starting. Subsequent lines which are indented are part of that code block. \n",
    "> **Note**: If you've coded before, you might know that some other languages use `{`curly braces`}` to mark the beginning and end of code blocks. Python's use of meaningful whitespace can be surprising to programmers who are accustomed to other languages, but in practice it can lead to more consistent and readable code than languages that do not enforce indentation of code blocks. \n",
    "\n",
    "The later lines dealing with `viking_song` are not indented with an extra 4 spaces, so they're not a part of the `if`'s code block. We'll see more examples of indented code blocks later when we define functions and using loops.\n",
    "\n",
    "This code snippet is also our first sighting of a **string** in Python:\n",
    "\n",
    "```python\n",
    "\"But I don't want ANY spam!\"\n",
    "```\n",
    "\n",
    "Strings can be marked either by double or single quotation marks. (But because this particular string *contains* a single-quote character, we might confuse Python by trying to surround it with single-quotes, unless we're careful.)"
   ]
  },
  {
   "cell_type": "code",
   "execution_count": 6,
   "id": "9c54bf8a",
   "metadata": {
    "_kg_hide-output": false,
    "execution": {
     "iopub.execute_input": "2025-03-14T19:32:44.883661Z",
     "iopub.status.busy": "2025-03-14T19:32:44.883291Z",
     "iopub.status.idle": "2025-03-14T19:32:44.888322Z",
     "shell.execute_reply": "2025-03-14T19:32:44.886989Z"
    },
    "papermill": {
     "duration": 0.014795,
     "end_time": "2025-03-14T19:32:44.890206",
     "exception": false,
     "start_time": "2025-03-14T19:32:44.875411",
     "status": "completed"
    },
    "tags": []
   },
   "outputs": [
    {
     "name": "stdout",
     "output_type": "stream",
     "text": [
      "Spam Spam Spam Spam \n"
     ]
    }
   ],
   "source": [
    "viking_song = \"Spam \" * spam_amount\n",
    "print(viking_song)"
   ]
  },
  {
   "cell_type": "markdown",
   "id": "f899961e",
   "metadata": {
    "papermill": {
     "duration": 0.007671,
     "end_time": "2025-03-14T19:32:44.906043",
     "exception": false,
     "start_time": "2025-03-14T19:32:44.898372",
     "status": "completed"
    },
    "tags": []
   },
   "source": [
    "The `*` operator can be used to multiply two numbers (`3 * 3` evaluates to 9), but we can also multiply a string by a number, to get a version that's been repeated that many times. Python offers a number of cheeky little time-saving tricks like this where operators like `*` and `+` have a different meaning depending on what kind of thing they're applied to. (The technical term for this is [operator overloading](https://en.wikipedia.org/wiki/Operator_overloading).)"
   ]
  },
  {
   "cell_type": "markdown",
   "id": "95949394",
   "metadata": {
    "papermill": {
     "duration": 0.006789,
     "end_time": "2025-03-14T19:32:44.919895",
     "exception": false,
     "start_time": "2025-03-14T19:32:44.913106",
     "status": "completed"
    },
    "tags": []
   },
   "source": [
    "## Numbers and arithmetic in Python\n",
    "\n",
    "We've already seen an example of a variable containing a number above:"
   ]
  },
  {
   "cell_type": "code",
   "execution_count": 7,
   "id": "ce80d51a",
   "metadata": {
    "execution": {
     "iopub.execute_input": "2025-03-14T19:32:44.935364Z",
     "iopub.status.busy": "2025-03-14T19:32:44.934986Z",
     "iopub.status.idle": "2025-03-14T19:32:44.939043Z",
     "shell.execute_reply": "2025-03-14T19:32:44.938019Z"
    },
    "papermill": {
     "duration": 0.013857,
     "end_time": "2025-03-14T19:32:44.940907",
     "exception": false,
     "start_time": "2025-03-14T19:32:44.927050",
     "status": "completed"
    },
    "tags": []
   },
   "outputs": [],
   "source": [
    "spam_amount = 0"
   ]
  },
  {
   "cell_type": "markdown",
   "id": "913eda1a",
   "metadata": {
    "papermill": {
     "duration": 0.007373,
     "end_time": "2025-03-14T19:32:44.955795",
     "exception": false,
     "start_time": "2025-03-14T19:32:44.948422",
     "status": "completed"
    },
    "tags": []
   },
   "source": [
    "\"Number\" is a fine informal name for the kind of thing, but if we wanted to be more technical, we could ask Python how it would describe the type of thing that `spam_amount` is:"
   ]
  },
  {
   "cell_type": "code",
   "execution_count": 8,
   "id": "92100dfe",
   "metadata": {
    "execution": {
     "iopub.execute_input": "2025-03-14T19:32:44.971759Z",
     "iopub.status.busy": "2025-03-14T19:32:44.971353Z",
     "iopub.status.idle": "2025-03-14T19:32:44.977696Z",
     "shell.execute_reply": "2025-03-14T19:32:44.976664Z"
    },
    "papermill": {
     "duration": 0.01647,
     "end_time": "2025-03-14T19:32:44.979618",
     "exception": false,
     "start_time": "2025-03-14T19:32:44.963148",
     "status": "completed"
    },
    "tags": []
   },
   "outputs": [
    {
     "data": {
      "text/plain": [
       "int"
      ]
     },
     "execution_count": 8,
     "metadata": {},
     "output_type": "execute_result"
    }
   ],
   "source": [
    "type(spam_amount)"
   ]
  },
  {
   "cell_type": "markdown",
   "id": "ce0e2eb5",
   "metadata": {
    "papermill": {
     "duration": 0.006831,
     "end_time": "2025-03-14T19:32:44.993758",
     "exception": false,
     "start_time": "2025-03-14T19:32:44.986927",
     "status": "completed"
    },
    "tags": []
   },
   "source": [
    "It's an `int` - short for integer. There's another sort of number we commonly encounter in Python:"
   ]
  },
  {
   "cell_type": "code",
   "execution_count": 9,
   "id": "3c069e8c",
   "metadata": {
    "execution": {
     "iopub.execute_input": "2025-03-14T19:32:45.009859Z",
     "iopub.status.busy": "2025-03-14T19:32:45.009465Z",
     "iopub.status.idle": "2025-03-14T19:32:45.015105Z",
     "shell.execute_reply": "2025-03-14T19:32:45.014089Z"
    },
    "papermill": {
     "duration": 0.015821,
     "end_time": "2025-03-14T19:32:45.016895",
     "exception": false,
     "start_time": "2025-03-14T19:32:45.001074",
     "status": "completed"
    },
    "tags": []
   },
   "outputs": [
    {
     "data": {
      "text/plain": [
       "float"
      ]
     },
     "execution_count": 9,
     "metadata": {},
     "output_type": "execute_result"
    }
   ],
   "source": [
    "type(19.25)"
   ]
  },
  {
   "cell_type": "markdown",
   "id": "7200a0a0",
   "metadata": {
    "papermill": {
     "duration": 0.006775,
     "end_time": "2025-03-14T19:32:45.031132",
     "exception": false,
     "start_time": "2025-03-14T19:32:45.024357",
     "status": "completed"
    },
    "tags": []
   },
   "source": [
    "A `float` is a number with a decimal place - very useful for representing things like weights or proportions.\n",
    "\n",
    "`type()` is the second built-in function we've seen (after `print()`), and it's another good one to remember. It's very useful to be able to ask Python \"what kind of thing is this?\". "
   ]
  },
  {
   "cell_type": "markdown",
   "id": "5b7e749b",
   "metadata": {
    "papermill": {
     "duration": 0.006761,
     "end_time": "2025-03-14T19:32:45.044931",
     "exception": false,
     "start_time": "2025-03-14T19:32:45.038170",
     "status": "completed"
    },
    "tags": []
   },
   "source": [
    "A natural thing to want to do with numbers is perform arithmetic. We've seen the `+` operator for addition, and the `*` operator for multiplication. Python also has us covered for the rest of the basic buttons on your calculator:\n",
    "\n",
    "| Operator     | Name           | Description                                            |\n",
    "|--------------|----------------|--------------------------------------------------------|\n",
    "| ``a + b``    | Addition       | Sum of ``a`` and ``b``                                 |\n",
    "| ``a - b``    | Subtraction    | Difference of ``a`` and ``b``                          |\n",
    "| ``a * b``    | Multiplication | Product of ``a`` and ``b``                             |\n",
    "| ``a / b``    | True division  | Quotient of ``a`` and ``b``                            |\n",
    "| ``a // b``   | Floor division | Quotient of ``a`` and ``b``, removing fractional parts |\n",
    "| ``a % b``    | Modulus        | Integer remainder after division of ``a`` by ``b``     |\n",
    "| ``a ** b``   | Exponentiation | ``a`` raised to the power of ``b``                     |\n",
    "| ``-a``       | Negation       | The negative of ``a``                                  |\n",
    "\n",
    "<span style=\"display:none\"></span>\n",
    "\n",
    "One interesting observation here is that, whereas your calculator probably just has one button for division, Python can do two kinds. \"True division\" is basically what your calculator does:"
   ]
  },
  {
   "cell_type": "code",
   "execution_count": 10,
   "id": "cd4aa4b9",
   "metadata": {
    "execution": {
     "iopub.execute_input": "2025-03-14T19:32:45.060527Z",
     "iopub.status.busy": "2025-03-14T19:32:45.060137Z",
     "iopub.status.idle": "2025-03-14T19:32:45.065727Z",
     "shell.execute_reply": "2025-03-14T19:32:45.064507Z"
    },
    "papermill": {
     "duration": 0.015448,
     "end_time": "2025-03-14T19:32:45.067394",
     "exception": false,
     "start_time": "2025-03-14T19:32:45.051946",
     "status": "completed"
    },
    "tags": []
   },
   "outputs": [
    {
     "name": "stdout",
     "output_type": "stream",
     "text": [
      "2.5\n",
      "3.0\n"
     ]
    }
   ],
   "source": [
    "print(5 / 2)\n",
    "print(6 / 2)"
   ]
  },
  {
   "cell_type": "markdown",
   "id": "ffb03d27",
   "metadata": {
    "papermill": {
     "duration": 0.007085,
     "end_time": "2025-03-14T19:32:45.081954",
     "exception": false,
     "start_time": "2025-03-14T19:32:45.074869",
     "status": "completed"
    },
    "tags": []
   },
   "source": [
    "It always gives us a `float`. \n",
    "\n",
    "The `//` operator gives us a result that's rounded down to the next integer."
   ]
  },
  {
   "cell_type": "code",
   "execution_count": 11,
   "id": "20a4c699",
   "metadata": {
    "execution": {
     "iopub.execute_input": "2025-03-14T19:32:45.097958Z",
     "iopub.status.busy": "2025-03-14T19:32:45.097563Z",
     "iopub.status.idle": "2025-03-14T19:32:45.102842Z",
     "shell.execute_reply": "2025-03-14T19:32:45.101665Z"
    },
    "papermill": {
     "duration": 0.015282,
     "end_time": "2025-03-14T19:32:45.104685",
     "exception": false,
     "start_time": "2025-03-14T19:32:45.089403",
     "status": "completed"
    },
    "tags": []
   },
   "outputs": [
    {
     "name": "stdout",
     "output_type": "stream",
     "text": [
      "2\n",
      "3\n"
     ]
    }
   ],
   "source": [
    "print(5 // 2)\n",
    "print(6 // 2)"
   ]
  },
  {
   "cell_type": "markdown",
   "id": "0861f308",
   "metadata": {
    "papermill": {
     "duration": 0.006907,
     "end_time": "2025-03-14T19:32:45.119201",
     "exception": false,
     "start_time": "2025-03-14T19:32:45.112294",
     "status": "completed"
    },
    "tags": []
   },
   "source": [
    "Can you think of where this would be useful? You'll see an example soon in the coding challenges."
   ]
  },
  {
   "cell_type": "markdown",
   "id": "cee16e3e",
   "metadata": {
    "papermill": {
     "duration": 0.007152,
     "end_time": "2025-03-14T19:32:45.133783",
     "exception": false,
     "start_time": "2025-03-14T19:32:45.126631",
     "status": "completed"
    },
    "tags": []
   },
   "source": [
    "### Order of operations\n",
    "\n",
    "The arithmetic we learned in primary school has conventions about the order in which operations are evaluated. Some remember these by a mnemonic such as **PEMDAS** - **P**arentheses, **E**xponents, **M**ultiplication/**D**ivision, **A**ddition/**S**ubtraction.\n",
    "\n",
    "Python follows similar rules about which calculations to perform first. They're mostly pretty intuitive."
   ]
  },
  {
   "cell_type": "code",
   "execution_count": 12,
   "id": "49faa548",
   "metadata": {
    "execution": {
     "iopub.execute_input": "2025-03-14T19:32:45.149705Z",
     "iopub.status.busy": "2025-03-14T19:32:45.149326Z",
     "iopub.status.idle": "2025-03-14T19:32:45.154794Z",
     "shell.execute_reply": "2025-03-14T19:32:45.153934Z"
    },
    "papermill": {
     "duration": 0.015403,
     "end_time": "2025-03-14T19:32:45.156427",
     "exception": false,
     "start_time": "2025-03-14T19:32:45.141024",
     "status": "completed"
    },
    "tags": []
   },
   "outputs": [
    {
     "data": {
      "text/plain": [
       "7"
      ]
     },
     "execution_count": 12,
     "metadata": {},
     "output_type": "execute_result"
    }
   ],
   "source": [
    "8 - 3 + 2"
   ]
  },
  {
   "cell_type": "code",
   "execution_count": 13,
   "id": "4b97682f",
   "metadata": {
    "execution": {
     "iopub.execute_input": "2025-03-14T19:32:45.172757Z",
     "iopub.status.busy": "2025-03-14T19:32:45.172355Z",
     "iopub.status.idle": "2025-03-14T19:32:45.178067Z",
     "shell.execute_reply": "2025-03-14T19:32:45.176971Z"
    },
    "papermill": {
     "duration": 0.015598,
     "end_time": "2025-03-14T19:32:45.179718",
     "exception": false,
     "start_time": "2025-03-14T19:32:45.164120",
     "status": "completed"
    },
    "tags": []
   },
   "outputs": [
    {
     "data": {
      "text/plain": [
       "5"
      ]
     },
     "execution_count": 13,
     "metadata": {},
     "output_type": "execute_result"
    }
   ],
   "source": [
    "-3 + 4 * 2"
   ]
  },
  {
   "cell_type": "markdown",
   "id": "ee047fad",
   "metadata": {
    "papermill": {
     "duration": 0.007177,
     "end_time": "2025-03-14T19:32:45.194854",
     "exception": false,
     "start_time": "2025-03-14T19:32:45.187677",
     "status": "completed"
    },
    "tags": []
   },
   "source": [
    "Sometimes the default order of operations isn't what we want:"
   ]
  },
  {
   "cell_type": "code",
   "execution_count": 14,
   "id": "a0d2d66d",
   "metadata": {
    "execution": {
     "iopub.execute_input": "2025-03-14T19:32:45.212119Z",
     "iopub.status.busy": "2025-03-14T19:32:45.211771Z",
     "iopub.status.idle": "2025-03-14T19:32:45.217884Z",
     "shell.execute_reply": "2025-03-14T19:32:45.216782Z"
    },
    "papermill": {
     "duration": 0.016413,
     "end_time": "2025-03-14T19:32:45.219557",
     "exception": false,
     "start_time": "2025-03-14T19:32:45.203144",
     "status": "completed"
    },
    "tags": []
   },
   "outputs": [
    {
     "name": "stdout",
     "output_type": "stream",
     "text": [
      "Height in meters = 26.9 ?\n"
     ]
    }
   ],
   "source": [
    "hat_height_cm = 25\n",
    "my_height_cm = 190\n",
    "# How tall am I, in meters, when wearing my hat?\n",
    "total_height_meters = hat_height_cm + my_height_cm / 100\n",
    "print(\"Height in meters =\", total_height_meters, \"?\")"
   ]
  },
  {
   "cell_type": "markdown",
   "id": "77a27a1f",
   "metadata": {
    "papermill": {
     "duration": 0.007141,
     "end_time": "2025-03-14T19:32:45.234429",
     "exception": false,
     "start_time": "2025-03-14T19:32:45.227288",
     "status": "completed"
    },
    "tags": []
   },
   "source": [
    "Parentheses are useful here. You can add them to force Python to evaluate sub-expressions in whatever order you want."
   ]
  },
  {
   "cell_type": "code",
   "execution_count": 15,
   "id": "fd4f7d51",
   "metadata": {
    "execution": {
     "iopub.execute_input": "2025-03-14T19:32:45.250529Z",
     "iopub.status.busy": "2025-03-14T19:32:45.250216Z",
     "iopub.status.idle": "2025-03-14T19:32:45.255103Z",
     "shell.execute_reply": "2025-03-14T19:32:45.253965Z"
    },
    "papermill": {
     "duration": 0.014805,
     "end_time": "2025-03-14T19:32:45.256665",
     "exception": false,
     "start_time": "2025-03-14T19:32:45.241860",
     "status": "completed"
    },
    "tags": []
   },
   "outputs": [
    {
     "name": "stdout",
     "output_type": "stream",
     "text": [
      "Height in meters = 2.15\n"
     ]
    }
   ],
   "source": [
    "total_height_meters = (hat_height_cm + my_height_cm) / 100\n",
    "print(\"Height in meters =\", total_height_meters)"
   ]
  },
  {
   "cell_type": "markdown",
   "id": "782ec358",
   "metadata": {
    "papermill": {
     "duration": 0.007305,
     "end_time": "2025-03-14T19:32:45.271759",
     "exception": false,
     "start_time": "2025-03-14T19:32:45.264454",
     "status": "completed"
    },
    "tags": []
   },
   "source": [
    "### Builtin functions for working with numbers\n",
    "\n",
    "`min` and `max` return the minimum and maximum of their arguments, respectively..."
   ]
  },
  {
   "cell_type": "code",
   "execution_count": 16,
   "id": "e3d012ab",
   "metadata": {
    "execution": {
     "iopub.execute_input": "2025-03-14T19:32:45.288044Z",
     "iopub.status.busy": "2025-03-14T19:32:45.287696Z",
     "iopub.status.idle": "2025-03-14T19:32:45.292992Z",
     "shell.execute_reply": "2025-03-14T19:32:45.291923Z"
    },
    "papermill": {
     "duration": 0.015322,
     "end_time": "2025-03-14T19:32:45.294602",
     "exception": false,
     "start_time": "2025-03-14T19:32:45.279280",
     "status": "completed"
    },
    "tags": []
   },
   "outputs": [
    {
     "name": "stdout",
     "output_type": "stream",
     "text": [
      "1\n",
      "3\n"
     ]
    }
   ],
   "source": [
    "print(min(1, 2, 3))\n",
    "print(max(1, 2, 3))"
   ]
  },
  {
   "cell_type": "markdown",
   "id": "a240640b",
   "metadata": {
    "papermill": {
     "duration": 0.0075,
     "end_time": "2025-03-14T19:32:45.309926",
     "exception": false,
     "start_time": "2025-03-14T19:32:45.302426",
     "status": "completed"
    },
    "tags": []
   },
   "source": [
    "`abs` returns the absolute value of an argument:"
   ]
  },
  {
   "cell_type": "code",
   "execution_count": 17,
   "id": "75983381",
   "metadata": {
    "execution": {
     "iopub.execute_input": "2025-03-14T19:32:45.326726Z",
     "iopub.status.busy": "2025-03-14T19:32:45.326280Z",
     "iopub.status.idle": "2025-03-14T19:32:45.331645Z",
     "shell.execute_reply": "2025-03-14T19:32:45.330541Z"
    },
    "papermill": {
     "duration": 0.015453,
     "end_time": "2025-03-14T19:32:45.333098",
     "exception": false,
     "start_time": "2025-03-14T19:32:45.317645",
     "status": "completed"
    },
    "tags": []
   },
   "outputs": [
    {
     "name": "stdout",
     "output_type": "stream",
     "text": [
      "32\n",
      "32\n"
     ]
    }
   ],
   "source": [
    "print(abs(32))\n",
    "print(abs(-32))"
   ]
  },
  {
   "cell_type": "markdown",
   "id": "a9d3061e",
   "metadata": {
    "papermill": {
     "duration": 0.007271,
     "end_time": "2025-03-14T19:32:45.348286",
     "exception": false,
     "start_time": "2025-03-14T19:32:45.341015",
     "status": "completed"
    },
    "tags": []
   },
   "source": [
    "In addition to being the names of Python's two main numerical types, `int` and `float` can also be called as functions which convert their arguments to the corresponding type:"
   ]
  },
  {
   "cell_type": "code",
   "execution_count": 18,
   "id": "f52f0967",
   "metadata": {
    "execution": {
     "iopub.execute_input": "2025-03-14T19:32:45.364740Z",
     "iopub.status.busy": "2025-03-14T19:32:45.364347Z",
     "iopub.status.idle": "2025-03-14T19:32:45.370012Z",
     "shell.execute_reply": "2025-03-14T19:32:45.368891Z"
    },
    "papermill": {
     "duration": 0.015756,
     "end_time": "2025-03-14T19:32:45.371691",
     "exception": false,
     "start_time": "2025-03-14T19:32:45.355935",
     "status": "completed"
    },
    "tags": []
   },
   "outputs": [
    {
     "name": "stdout",
     "output_type": "stream",
     "text": [
      "10.0\n",
      "3\n",
      "808\n"
     ]
    }
   ],
   "source": [
    "print(float(10))\n",
    "print(int(3.33))\n",
    "# They can even be called on strings!\n",
    "print(int('807') + 1)"
   ]
  },
  {
   "cell_type": "markdown",
   "id": "e3ee9900",
   "metadata": {
    "papermill": {
     "duration": 0.007475,
     "end_time": "2025-03-14T19:32:45.387277",
     "exception": false,
     "start_time": "2025-03-14T19:32:45.379802",
     "status": "completed"
    },
    "tags": []
   },
   "source": [
    "# Your Turn\n",
    "\n",
    "Now is your chance. Try your **[first Python programming exercise](https://www.kaggle.com/kernels/fork/1275163)**!"
   ]
  },
  {
   "cell_type": "markdown",
   "id": "fc1b0522",
   "metadata": {
    "papermill": {
     "duration": 0.007657,
     "end_time": "2025-03-14T19:32:45.402728",
     "exception": false,
     "start_time": "2025-03-14T19:32:45.395071",
     "status": "completed"
    },
    "tags": []
   },
   "source": [
    "---\n",
    "\n",
    "\n",
    "\n",
    "\n",
    "*Have questions or comments? Visit the [course discussion forum](https://www.kaggle.com/learn/python/discussion) to chat with other learners.*"
   ]
  }
 ],
 "metadata": {
  "kaggle": {
   "accelerator": "none",
   "dataSources": [],
   "isGpuEnabled": false,
   "isInternetEnabled": false,
   "language": "python",
   "sourceType": "notebook"
  },
  "kernelspec": {
   "display_name": "Python 3",
   "language": "python",
   "name": "python3"
  },
  "language_info": {
   "codemirror_mode": {
    "name": "ipython",
    "version": 3
   },
   "file_extension": ".py",
   "mimetype": "text/x-python",
   "name": "python",
   "nbconvert_exporter": "python",
   "pygments_lexer": "ipython3",
   "version": "3.10.12"
  },
  "papermill": {
   "default_parameters": {},
   "duration": 4.038899,
   "end_time": "2025-03-14T19:32:45.830971",
   "environment_variables": {},
   "exception": null,
   "input_path": "__notebook__.ipynb",
   "output_path": "__notebook__.ipynb",
   "parameters": {},
   "start_time": "2025-03-14T19:32:41.792072",
   "version": "2.6.0"
  }
 },
 "nbformat": 4,
 "nbformat_minor": 5
}

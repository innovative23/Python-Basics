{
 "cells": [
  {
   "cell_type": "markdown",
   "id": "daae538f",
   "metadata": {
    "papermill": {
     "duration": 0.002792,
     "end_time": "2025-03-14T19:50:56.638517",
     "exception": false,
     "start_time": "2025-03-14T19:50:56.635725",
     "status": "completed"
    },
    "tags": []
   },
   "source": [
    "# Introduction\n",
    "\n",
    "Decision trees leave you with a difficult decision. A deep tree with lots of leaves will overfit because each prediction is coming from historical data from only the few houses at its leaf. But a shallow tree with few leaves will perform poorly because it fails to capture as many distinctions in the raw data.\n",
    "\n",
    "Even today's most sophisticated modeling techniques face this tension between underfitting and overfitting. But, many models have clever ideas that can lead to better performance. We'll look at the **random forest** as an example.\n",
    "\n",
    "The random forest uses many trees, and it makes a prediction by averaging the predictions of each component tree. It generally has much better predictive accuracy than a single decision tree and it works well with default parameters. If you keep modeling, you can learn more models with even better performance, but many of those are sensitive to getting the right parameters. \n",
    "\n",
    "# Example\n",
    "\n",
    "You've already seen the code to load the data a few times. At the end of data-loading, we have the following variables:\n",
    "- train_X\n",
    "- val_X\n",
    "- train_y\n",
    "- val_y"
   ]
  },
  {
   "cell_type": "code",
   "execution_count": 1,
   "id": "94ce1dac",
   "metadata": {
    "_kg_hide-input": true,
    "_kg_hide-output": true,
    "execution": {
     "iopub.execute_input": "2025-03-14T19:50:56.644861Z",
     "iopub.status.busy": "2025-03-14T19:50:56.644346Z",
     "iopub.status.idle": "2025-03-14T19:50:59.409600Z",
     "shell.execute_reply": "2025-03-14T19:50:59.408574Z"
    },
    "papermill": {
     "duration": 2.770547,
     "end_time": "2025-03-14T19:50:59.411688",
     "exception": false,
     "start_time": "2025-03-14T19:50:56.641141",
     "status": "completed"
    },
    "tags": []
   },
   "outputs": [],
   "source": [
    "import pandas as pd\n",
    "    \n",
    "# Load data\n",
    "melbourne_file_path = '../input/melbourne-housing-snapshot/melb_data.csv'\n",
    "melbourne_data = pd.read_csv(melbourne_file_path) \n",
    "# Filter rows with missing values\n",
    "melbourne_data = melbourne_data.dropna(axis=0)\n",
    "# Choose target and features\n",
    "y = melbourne_data.Price\n",
    "melbourne_features = ['Rooms', 'Bathroom', 'Landsize', 'BuildingArea', \n",
    "                        'YearBuilt', 'Lattitude', 'Longtitude']\n",
    "X = melbourne_data[melbourne_features]\n",
    "\n",
    "from sklearn.model_selection import train_test_split\n",
    "\n",
    "# split data into training and validation data, for both features and target\n",
    "# The split is based on a random number generator. Supplying a numeric value to\n",
    "# the random_state argument guarantees we get the same split every time we\n",
    "# run this script.\n",
    "train_X, val_X, train_y, val_y = train_test_split(X, y,random_state = 0)"
   ]
  },
  {
   "cell_type": "markdown",
   "id": "2372c573",
   "metadata": {
    "papermill": {
     "duration": 0.002059,
     "end_time": "2025-03-14T19:50:59.416284",
     "exception": false,
     "start_time": "2025-03-14T19:50:59.414225",
     "status": "completed"
    },
    "tags": []
   },
   "source": [
    "We build a random forest model similarly to how we built a decision tree in scikit-learn - this time using the `RandomForestRegressor` class instead of `DecisionTreeRegressor`."
   ]
  },
  {
   "cell_type": "code",
   "execution_count": 2,
   "id": "db0e92d3",
   "metadata": {
    "execution": {
     "iopub.execute_input": "2025-03-14T19:50:59.422208Z",
     "iopub.status.busy": "2025-03-14T19:50:59.421579Z",
     "iopub.status.idle": "2025-03-14T19:51:02.122609Z",
     "shell.execute_reply": "2025-03-14T19:51:02.121339Z"
    },
    "papermill": {
     "duration": 2.706048,
     "end_time": "2025-03-14T19:51:02.124470",
     "exception": false,
     "start_time": "2025-03-14T19:50:59.418422",
     "status": "completed"
    },
    "tags": []
   },
   "outputs": [
    {
     "name": "stdout",
     "output_type": "stream",
     "text": [
      "191669.7536453626\n"
     ]
    }
   ],
   "source": [
    "from sklearn.ensemble import RandomForestRegressor\n",
    "from sklearn.metrics import mean_absolute_error\n",
    "\n",
    "forest_model = RandomForestRegressor(random_state=1)\n",
    "forest_model.fit(train_X, train_y)\n",
    "melb_preds = forest_model.predict(val_X)\n",
    "print(mean_absolute_error(val_y, melb_preds))"
   ]
  },
  {
   "cell_type": "markdown",
   "id": "9f969c22",
   "metadata": {
    "papermill": {
     "duration": 0.002082,
     "end_time": "2025-03-14T19:51:02.128965",
     "exception": false,
     "start_time": "2025-03-14T19:51:02.126883",
     "status": "completed"
    },
    "tags": []
   },
   "source": [
    "# Conclusion \n",
    "There is likely room for further improvement, but this is a big improvement over the best decision tree error of 250,000. There are parameters which allow you to change the performance of the Random Forest much as we changed the maximum depth of the single decision tree. But one of the best features of Random Forest models is that they generally work reasonably even without this tuning.\n",
    "\n",
    "# Your Turn \n",
    "Try **[Using a Random Forest model](https://www.kaggle.com/kernels/fork/1259186)** yourself and see how much it improves your model."
   ]
  },
  {
   "cell_type": "markdown",
   "id": "24e402cc",
   "metadata": {
    "papermill": {
     "duration": 0.001827,
     "end_time": "2025-03-14T19:51:02.132960",
     "exception": false,
     "start_time": "2025-03-14T19:51:02.131133",
     "status": "completed"
    },
    "tags": []
   },
   "source": [
    "---\n",
    "\n",
    "\n",
    "\n",
    "\n",
    "*Have questions or comments? Visit the [course discussion forum](https://www.kaggle.com/learn/intro-to-machine-learning/discussion) to chat with other learners.*"
   ]
  }
 ],
 "metadata": {
  "kaggle": {
   "accelerator": "none",
   "dataSources": [
    {
     "databundleVersionId": 111096,
     "sourceId": 10211,
     "sourceType": "competition"
    },
    {
     "datasetId": 11167,
     "sourceId": 15520,
     "sourceType": "datasetVersion"
    },
    {
     "datasetId": 2709,
     "sourceId": 38454,
     "sourceType": "datasetVersion"
    }
   ],
   "isGpuEnabled": false,
   "isInternetEnabled": false,
   "language": "python",
   "sourceType": "notebook"
  },
  "kernelspec": {
   "display_name": "Python 3",
   "language": "python",
   "name": "python3"
  },
  "language_info": {
   "codemirror_mode": {
    "name": "ipython",
    "version": 3
   },
   "file_extension": ".py",
   "mimetype": "text/x-python",
   "name": "python",
   "nbconvert_exporter": "python",
   "pygments_lexer": "ipython3",
   "version": "3.10.12"
  },
  "papermill": {
   "default_parameters": {},
   "duration": 9.156534,
   "end_time": "2025-03-14T19:51:02.856715",
   "environment_variables": {},
   "exception": null,
   "input_path": "__notebook__.ipynb",
   "output_path": "__notebook__.ipynb",
   "parameters": {},
   "start_time": "2025-03-14T19:50:53.700181",
   "version": "2.6.0"
  }
 },
 "nbformat": 4,
 "nbformat_minor": 5
}

{
 "cells": [
  {
   "cell_type": "markdown",
   "id": "2442b3f6",
   "metadata": {
    "papermill": {
     "duration": 0.004007,
     "end_time": "2025-03-14T19:50:34.753277",
     "exception": false,
     "start_time": "2025-03-14T19:50:34.749270",
     "status": "completed"
    },
    "tags": []
   },
   "source": [
    "**This notebook is an exercise in the [Introduction to Machine Learning](https://www.kaggle.com/learn/intro-to-machine-learning) course.  You can reference the tutorial at [this link](https://www.kaggle.com/dansbecker/underfitting-and-overfitting).**\n",
    "\n",
    "---\n"
   ]
  },
  {
   "cell_type": "markdown",
   "id": "c8425ce8",
   "metadata": {
    "papermill": {
     "duration": 0.003212,
     "end_time": "2025-03-14T19:50:34.760306",
     "exception": false,
     "start_time": "2025-03-14T19:50:34.757094",
     "status": "completed"
    },
    "tags": []
   },
   "source": [
    "## Recap\n",
    "You've built your first model, and now it's time to optimize the size of the tree to make better predictions. Run this cell to set up your coding environment where the previous step left off."
   ]
  },
  {
   "cell_type": "code",
   "execution_count": 1,
   "id": "726da305",
   "metadata": {
    "execution": {
     "iopub.execute_input": "2025-03-14T19:50:34.769021Z",
     "iopub.status.busy": "2025-03-14T19:50:34.768604Z",
     "iopub.status.idle": "2025-03-14T19:50:37.781354Z",
     "shell.execute_reply": "2025-03-14T19:50:37.780064Z"
    },
    "papermill": {
     "duration": 3.019208,
     "end_time": "2025-03-14T19:50:37.783311",
     "exception": false,
     "start_time": "2025-03-14T19:50:34.764103",
     "status": "completed"
    },
    "tags": []
   },
   "outputs": [
    {
     "name": "stdout",
     "output_type": "stream",
     "text": [
      "Validation MAE: 29,653\n",
      "\n",
      "Setup complete\n"
     ]
    }
   ],
   "source": [
    "# Code you have previously used to load data\n",
    "import pandas as pd\n",
    "from sklearn.metrics import mean_absolute_error\n",
    "from sklearn.model_selection import train_test_split\n",
    "from sklearn.tree import DecisionTreeRegressor\n",
    "\n",
    "\n",
    "# Path of the file to read\n",
    "iowa_file_path = '../input/home-data-for-ml-course/train.csv'\n",
    "\n",
    "home_data = pd.read_csv(iowa_file_path)\n",
    "# Create target object and call it y\n",
    "y = home_data.SalePrice\n",
    "# Create X\n",
    "features = ['LotArea', 'YearBuilt', '1stFlrSF', '2ndFlrSF', 'FullBath', 'BedroomAbvGr', 'TotRmsAbvGrd']\n",
    "X = home_data[features]\n",
    "\n",
    "# Split into validation and training data\n",
    "train_X, val_X, train_y, val_y = train_test_split(X, y, random_state=1)\n",
    "\n",
    "# Specify Model\n",
    "iowa_model = DecisionTreeRegressor(random_state=1)\n",
    "# Fit Model\n",
    "iowa_model.fit(train_X, train_y)\n",
    "\n",
    "# Make validation predictions and calculate mean absolute error\n",
    "val_predictions = iowa_model.predict(val_X)\n",
    "val_mae = mean_absolute_error(val_predictions, val_y)\n",
    "print(\"Validation MAE: {:,.0f}\".format(val_mae))\n",
    "\n",
    "# Set up code checking\n",
    "from learntools.core import binder\n",
    "binder.bind(globals())\n",
    "from learntools.machine_learning.ex5 import *\n",
    "print(\"\\nSetup complete\")"
   ]
  },
  {
   "cell_type": "markdown",
   "id": "cc1688b2",
   "metadata": {
    "papermill": {
     "duration": 0.003299,
     "end_time": "2025-03-14T19:50:37.790535",
     "exception": false,
     "start_time": "2025-03-14T19:50:37.787236",
     "status": "completed"
    },
    "tags": []
   },
   "source": [
    "# Exercises\n",
    "You could write the function `get_mae` yourself. For now, we'll supply it. This is the same function you read about in the previous lesson. Just run the cell below."
   ]
  },
  {
   "cell_type": "code",
   "execution_count": 2,
   "id": "4edaf07a",
   "metadata": {
    "execution": {
     "iopub.execute_input": "2025-03-14T19:50:37.798880Z",
     "iopub.status.busy": "2025-03-14T19:50:37.798424Z",
     "iopub.status.idle": "2025-03-14T19:50:37.803472Z",
     "shell.execute_reply": "2025-03-14T19:50:37.802397Z"
    },
    "papermill": {
     "duration": 0.011256,
     "end_time": "2025-03-14T19:50:37.805305",
     "exception": false,
     "start_time": "2025-03-14T19:50:37.794049",
     "status": "completed"
    },
    "tags": []
   },
   "outputs": [],
   "source": [
    "def get_mae(max_leaf_nodes, train_X, val_X, train_y, val_y):\n",
    "    model = DecisionTreeRegressor(max_leaf_nodes=max_leaf_nodes, random_state=0)\n",
    "    model.fit(train_X, train_y)\n",
    "    preds_val = model.predict(val_X)\n",
    "    mae = mean_absolute_error(val_y, preds_val)\n",
    "    return(mae)"
   ]
  },
  {
   "cell_type": "markdown",
   "id": "48e2b80a",
   "metadata": {
    "papermill": {
     "duration": 0.003278,
     "end_time": "2025-03-14T19:50:37.812401",
     "exception": false,
     "start_time": "2025-03-14T19:50:37.809123",
     "status": "completed"
    },
    "tags": []
   },
   "source": [
    "## Step 1: Compare Different Tree Sizes\n",
    "Write a loop that tries the following values for *max_leaf_nodes* from a set of possible values.\n",
    "\n",
    "Call the *get_mae* function on each value of max_leaf_nodes. Store the output in some way that allows you to select the value of `max_leaf_nodes` that gives the most accurate model on your data."
   ]
  },
  {
   "cell_type": "code",
   "execution_count": 3,
   "id": "3c3332e3",
   "metadata": {
    "execution": {
     "iopub.execute_input": "2025-03-14T19:50:37.820490Z",
     "iopub.status.busy": "2025-03-14T19:50:37.820103Z",
     "iopub.status.idle": "2025-03-14T19:50:37.824672Z",
     "shell.execute_reply": "2025-03-14T19:50:37.823538Z"
    },
    "papermill": {
     "duration": 0.010906,
     "end_time": "2025-03-14T19:50:37.826682",
     "exception": false,
     "start_time": "2025-03-14T19:50:37.815776",
     "status": "completed"
    },
    "tags": []
   },
   "outputs": [],
   "source": [
    "import numpy as np"
   ]
  },
  {
   "cell_type": "code",
   "execution_count": 4,
   "id": "9257c968",
   "metadata": {
    "execution": {
     "iopub.execute_input": "2025-03-14T19:50:37.835724Z",
     "iopub.status.busy": "2025-03-14T19:50:37.835243Z",
     "iopub.status.idle": "2025-03-14T19:50:37.885150Z",
     "shell.execute_reply": "2025-03-14T19:50:37.883685Z"
    },
    "papermill": {
     "duration": 0.056338,
     "end_time": "2025-03-14T19:50:37.887128",
     "exception": false,
     "start_time": "2025-03-14T19:50:37.830790",
     "status": "completed"
    },
    "tags": []
   },
   "outputs": [
    {
     "data": {
      "application/javascript": [
       "parent.postMessage({\"jupyterEvent\": \"custom.exercise_interaction\", \"data\": {\"outcomeType\": 1, \"valueTowardsCompletion\": 0.5, \"interactionType\": 1, \"questionType\": 1, \"questionId\": \"1_BestTreeSize\", \"learnToolsVersion\": \"0.3.4\", \"failureMessage\": \"\", \"exceptionClass\": \"\", \"trace\": \"\"}}, \"*\")"
      ],
      "text/plain": [
       "<IPython.core.display.Javascript object>"
      ]
     },
     "metadata": {},
     "output_type": "display_data"
    },
    {
     "data": {
      "text/markdown": [
       "<span style=\"color:#33cc33\">Correct</span>"
      ],
      "text/plain": [
       "Correct"
      ]
     },
     "metadata": {},
     "output_type": "display_data"
    }
   ],
   "source": [
    "candidate_max_leaf_nodes = [5, 25, 50, 100, 250, 500]\n",
    "# Write loop to find the ideal tree size from candidate_max_leaf_nodes\n",
    "best_mae = np.inf\n",
    "for candidate in candidate_max_leaf_nodes:\n",
    "    mae = get_mae(candidate, train_X, val_X, train_y, val_y)\n",
    "    if  mae < best_mae:\n",
    "        best_mae = mae\n",
    "        best_tree_size = candidate\n",
    "\n",
    "# Store the best value of max_leaf_nodes (it will be either 5, 25, 50, 100, 250 or 500)\n",
    "#best_tree_size = ____\n",
    "\n",
    "# Check your answer\n",
    "step_1.check()"
   ]
  },
  {
   "cell_type": "code",
   "execution_count": 5,
   "id": "4c1ae922",
   "metadata": {
    "execution": {
     "iopub.execute_input": "2025-03-14T19:50:37.896054Z",
     "iopub.status.busy": "2025-03-14T19:50:37.895652Z",
     "iopub.status.idle": "2025-03-14T19:50:37.900943Z",
     "shell.execute_reply": "2025-03-14T19:50:37.899641Z"
    },
    "papermill": {
     "duration": 0.011664,
     "end_time": "2025-03-14T19:50:37.902788",
     "exception": false,
     "start_time": "2025-03-14T19:50:37.891124",
     "status": "completed"
    },
    "tags": []
   },
   "outputs": [
    {
     "name": "stdout",
     "output_type": "stream",
     "text": [
      "Max leaf nodes: 100  \t\t Mean Absolute Error:  27282\n"
     ]
    }
   ],
   "source": [
    "print(\"Max leaf nodes: %d  \\t\\t Mean Absolute Error:  %d\" %(best_tree_size, best_mae))"
   ]
  },
  {
   "cell_type": "code",
   "execution_count": 6,
   "id": "cd13c622",
   "metadata": {
    "execution": {
     "iopub.execute_input": "2025-03-14T19:50:37.911674Z",
     "iopub.status.busy": "2025-03-14T19:50:37.911271Z",
     "iopub.status.idle": "2025-03-14T19:50:37.915396Z",
     "shell.execute_reply": "2025-03-14T19:50:37.914362Z"
    },
    "papermill": {
     "duration": 0.010355,
     "end_time": "2025-03-14T19:50:37.917184",
     "exception": false,
     "start_time": "2025-03-14T19:50:37.906829",
     "status": "completed"
    },
    "tags": []
   },
   "outputs": [],
   "source": [
    "# The lines below will show you a hint or the solution.\n",
    "# step_1.hint() \n",
    "# step_1.solution()"
   ]
  },
  {
   "cell_type": "markdown",
   "id": "eb588305",
   "metadata": {
    "papermill": {
     "duration": 0.003797,
     "end_time": "2025-03-14T19:50:37.924948",
     "exception": false,
     "start_time": "2025-03-14T19:50:37.921151",
     "status": "completed"
    },
    "tags": []
   },
   "source": [
    "## Step 2: Fit Model Using All Data\n",
    "You know the best tree size. If you were going to deploy this model in practice, you would make it even more accurate by using all of the data and keeping that tree size.  That is, you don't need to hold out the validation data now that you've made all your modeling decisions."
   ]
  },
  {
   "cell_type": "code",
   "execution_count": 7,
   "id": "a82668f6",
   "metadata": {
    "execution": {
     "iopub.execute_input": "2025-03-14T19:50:37.933975Z",
     "iopub.status.busy": "2025-03-14T19:50:37.933515Z",
     "iopub.status.idle": "2025-03-14T19:50:37.950068Z",
     "shell.execute_reply": "2025-03-14T19:50:37.948874Z"
    },
    "papermill": {
     "duration": 0.022969,
     "end_time": "2025-03-14T19:50:37.951835",
     "exception": false,
     "start_time": "2025-03-14T19:50:37.928866",
     "status": "completed"
    },
    "tags": []
   },
   "outputs": [
    {
     "data": {
      "application/javascript": [
       "parent.postMessage({\"jupyterEvent\": \"custom.exercise_interaction\", \"data\": {\"outcomeType\": 1, \"valueTowardsCompletion\": 0.5, \"interactionType\": 1, \"questionType\": 2, \"questionId\": \"2_FitModelWithAllData\", \"learnToolsVersion\": \"0.3.4\", \"failureMessage\": \"\", \"exceptionClass\": \"\", \"trace\": \"\"}}, \"*\")"
      ],
      "text/plain": [
       "<IPython.core.display.Javascript object>"
      ]
     },
     "metadata": {},
     "output_type": "display_data"
    },
    {
     "data": {
      "text/markdown": [
       "<span style=\"color:#33cc33\">Correct</span>"
      ],
      "text/plain": [
       "Correct"
      ]
     },
     "metadata": {},
     "output_type": "display_data"
    }
   ],
   "source": [
    "# Fill in argument to make optimal size and uncomment\n",
    "final_model = DecisionTreeRegressor(max_leaf_nodes=best_tree_size, random_state=1)\n",
    "\n",
    "# fit the final model and uncomment the next two lines\n",
    "final_model.fit(X,y)\n",
    "\n",
    "# Check your answer\n",
    "step_2.check()"
   ]
  },
  {
   "cell_type": "code",
   "execution_count": 8,
   "id": "51c08c2e",
   "metadata": {
    "execution": {
     "iopub.execute_input": "2025-03-14T19:50:37.961197Z",
     "iopub.status.busy": "2025-03-14T19:50:37.960797Z",
     "iopub.status.idle": "2025-03-14T19:50:37.964888Z",
     "shell.execute_reply": "2025-03-14T19:50:37.963730Z"
    },
    "papermill": {
     "duration": 0.010918,
     "end_time": "2025-03-14T19:50:37.966792",
     "exception": false,
     "start_time": "2025-03-14T19:50:37.955874",
     "status": "completed"
    },
    "tags": []
   },
   "outputs": [],
   "source": [
    "# step_2.hint()\n",
    "# step_2.solution()"
   ]
  },
  {
   "cell_type": "markdown",
   "id": "3e50590e",
   "metadata": {
    "papermill": {
     "duration": 0.003779,
     "end_time": "2025-03-14T19:50:37.974687",
     "exception": false,
     "start_time": "2025-03-14T19:50:37.970908",
     "status": "completed"
    },
    "tags": []
   },
   "source": [
    "You've tuned this model and improved your results. But we are still using Decision Tree models, which are not very sophisticated by modern machine learning standards. In the next step you will learn to use Random Forests to improve your models even more.\n",
    "\n",
    "# Keep Going\n",
    "\n",
    "You are ready for **[Random Forests](https://www.kaggle.com/dansbecker/random-forests).**\n"
   ]
  },
  {
   "cell_type": "markdown",
   "id": "7c0af35d",
   "metadata": {
    "papermill": {
     "duration": 0.003515,
     "end_time": "2025-03-14T19:50:37.982039",
     "exception": false,
     "start_time": "2025-03-14T19:50:37.978524",
     "status": "completed"
    },
    "tags": []
   },
   "source": [
    "---\n",
    "\n",
    "\n",
    "\n",
    "\n",
    "*Have questions or comments? Visit the [course discussion forum](https://www.kaggle.com/learn/intro-to-machine-learning/discussion) to chat with other learners.*"
   ]
  }
 ],
 "metadata": {
  "kaggle": {
   "accelerator": "none",
   "dataSources": [
    {
     "databundleVersionId": 111096,
     "sourceId": 10211,
     "sourceType": "competition"
    },
    {
     "datasetId": 11167,
     "sourceId": 15520,
     "sourceType": "datasetVersion"
    },
    {
     "datasetId": 2709,
     "sourceId": 38454,
     "sourceType": "datasetVersion"
    }
   ],
   "isGpuEnabled": false,
   "isInternetEnabled": false,
   "language": "python",
   "sourceType": "notebook"
  },
  "kernelspec": {
   "display_name": "Python 3",
   "language": "python",
   "name": "python3"
  },
  "language_info": {
   "codemirror_mode": {
    "name": "ipython",
    "version": 3
   },
   "file_extension": ".py",
   "mimetype": "text/x-python",
   "name": "python",
   "nbconvert_exporter": "python",
   "pygments_lexer": "ipython3",
   "version": "3.10.12"
  },
  "papermill": {
   "default_parameters": {},
   "duration": 6.85498,
   "end_time": "2025-03-14T19:50:38.707362",
   "environment_variables": {},
   "exception": null,
   "input_path": "__notebook__.ipynb",
   "output_path": "__notebook__.ipynb",
   "parameters": {},
   "start_time": "2025-03-14T19:50:31.852382",
   "version": "2.6.0"
  }
 },
 "nbformat": 4,
 "nbformat_minor": 5
}

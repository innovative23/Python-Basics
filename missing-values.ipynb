{
 "cells": [
  {
   "cell_type": "markdown",
   "id": "bfa57348",
   "metadata": {
    "papermill": {
     "duration": 0.004166,
     "end_time": "2025-03-14T19:54:12.602597",
     "exception": false,
     "start_time": "2025-03-14T19:54:12.598431",
     "status": "completed"
    },
    "tags": []
   },
   "source": [
    "In this tutorial, you will learn three approaches to **dealing with missing values**. Then you'll compare the effectiveness of these approaches on a real-world dataset.\n",
    "\n",
    "# Introduction\n",
    "\n",
    "There are many ways data can end up with missing values. For example,\n",
    "- A 2 bedroom house won't include a value for the size of a third bedroom.\n",
    "- A survey respondent may choose not to share his income.\n",
    "\n",
    "Most machine learning libraries (including scikit-learn) give an error if you try to build a model using data with missing values. So you'll need to choose one of the strategies below."
   ]
  },
  {
   "cell_type": "markdown",
   "id": "f8a6a844",
   "metadata": {
    "papermill": {
     "duration": 0.003397,
     "end_time": "2025-03-14T19:54:12.609999",
     "exception": false,
     "start_time": "2025-03-14T19:54:12.606602",
     "status": "completed"
    },
    "tags": []
   },
   "source": [
    "# Three Approaches\n",
    "\n",
    "\n",
    "### 1) A Simple Option: Drop Columns with Missing Values\n",
    "\n",
    "The simplest option is to drop columns with missing values. \n",
    "\n",
    "![tut2_approach1](https://i.imgur.com/Sax80za.png)\n",
    "\n",
    "Unless most values in the dropped columns are missing, the model loses access to a lot of (potentially useful!) information with this approach.  As an extreme example, consider a dataset with 10,000 rows, where one important column is missing a single entry. This approach would drop the column entirely!\n",
    "\n",
    "### 2) A Better Option: Imputation\n",
    "\n",
    "**Imputation** fills in the missing values with some number.  For instance, we can fill in the mean value along each column. \n",
    "\n",
    "![tut2_approach2](https://i.imgur.com/4BpnlPA.png)\n",
    "\n",
    "The imputed value won't be exactly right in most cases, but it usually leads to more accurate models than you would get from dropping the column entirely.\n",
    "\n",
    "### 3) An Extension To Imputation\n",
    "\n",
    "Imputation is the standard approach, and it usually works well. However, imputed values may be systematically above or below their actual values (which weren't collected in the dataset). Or rows with missing values may be unique in some other way. In that case, your model would make better predictions by considering which values were originally missing.  \n",
    "\n",
    "![tut3_approach3](https://i.imgur.com/UWOyg4a.png)\n",
    "\n",
    "In this approach, we impute the missing values, as before.  And, additionally, for each column with missing entries in the original dataset, we add a new column that shows the location of the imputed entries.\n",
    "\n",
    "In some cases, this will meaningfully improve results. In other cases, it doesn't help at all.\n",
    "\n",
    "# Example \n",
    "\n",
    "In the example, we will work with the [Melbourne Housing dataset](https://www.kaggle.com/dansbecker/melbourne-housing-snapshot/home).  Our model will use information such as the number of rooms and land size to predict home price.\n",
    "\n",
    "We won't focus on the data loading step. Instead, you can imagine you are at a point where you already have the training and validation data in `X_train`, `X_valid`, `y_train`, and `y_valid`. "
   ]
  },
  {
   "cell_type": "code",
   "execution_count": 1,
   "id": "20a8871c",
   "metadata": {
    "_kg_hide-input": true,
    "_kg_hide-output": true,
    "execution": {
     "iopub.execute_input": "2025-03-14T19:54:12.619169Z",
     "iopub.status.busy": "2025-03-14T19:54:12.618660Z",
     "iopub.status.idle": "2025-03-14T19:54:15.740379Z",
     "shell.execute_reply": "2025-03-14T19:54:15.739269Z"
    },
    "papermill": {
     "duration": 3.128704,
     "end_time": "2025-03-14T19:54:15.742287",
     "exception": false,
     "start_time": "2025-03-14T19:54:12.613583",
     "status": "completed"
    },
    "tags": []
   },
   "outputs": [],
   "source": [
    "\n",
    "import pandas as pd\n",
    "from sklearn.model_selection import train_test_split\n",
    "\n",
    "# Load the data\n",
    "data = pd.read_csv('../input/melbourne-housing-snapshot/melb_data.csv')\n",
    "\n",
    "# Select target\n",
    "y = data.Price\n",
    "\n",
    "# To keep things simple, we'll use only numerical predictors\n",
    "melb_predictors = data.drop(['Price'], axis=1)\n",
    "X = melb_predictors.select_dtypes(exclude=['object'])\n",
    "\n",
    "# Divide data into training and validation subsets\n",
    "X_train, X_valid, y_train, y_valid = train_test_split(X, y, train_size=0.8, test_size=0.2,\n",
    "                                                      random_state=0)"
   ]
  },
  {
   "cell_type": "markdown",
   "id": "50bed33b",
   "metadata": {
    "papermill": {
     "duration": 0.00333,
     "end_time": "2025-03-14T19:54:15.749535",
     "exception": false,
     "start_time": "2025-03-14T19:54:15.746205",
     "status": "completed"
    },
    "tags": []
   },
   "source": [
    "### Define Function to Measure Quality of Each Approach\n",
    "\n",
    "We define a function `score_dataset()` to compare different approaches to dealing with missing values. This function reports the [mean absolute error](https://en.wikipedia.org/wiki/Mean_absolute_error) (MAE) from a random forest model."
   ]
  },
  {
   "cell_type": "code",
   "execution_count": 2,
   "id": "36baf00e",
   "metadata": {
    "_kg_hide-input": true,
    "_kg_hide-output": true,
    "execution": {
     "iopub.execute_input": "2025-03-14T19:54:15.759775Z",
     "iopub.status.busy": "2025-03-14T19:54:15.759359Z",
     "iopub.status.idle": "2025-03-14T19:54:16.236132Z",
     "shell.execute_reply": "2025-03-14T19:54:16.234773Z"
    },
    "papermill": {
     "duration": 0.4842,
     "end_time": "2025-03-14T19:54:16.238076",
     "exception": false,
     "start_time": "2025-03-14T19:54:15.753876",
     "status": "completed"
    },
    "tags": []
   },
   "outputs": [],
   "source": [
    "\n",
    "from sklearn.ensemble import RandomForestRegressor\n",
    "from sklearn.metrics import mean_absolute_error\n",
    "\n",
    "# Function for comparing different approaches\n",
    "def score_dataset(X_train, X_valid, y_train, y_valid):\n",
    "    model = RandomForestRegressor(n_estimators=10, random_state=0)\n",
    "    model.fit(X_train, y_train)\n",
    "    preds = model.predict(X_valid)\n",
    "    return mean_absolute_error(y_valid, preds)"
   ]
  },
  {
   "cell_type": "markdown",
   "id": "81e043c8",
   "metadata": {
    "papermill": {
     "duration": 0.003451,
     "end_time": "2025-03-14T19:54:16.245381",
     "exception": false,
     "start_time": "2025-03-14T19:54:16.241930",
     "status": "completed"
    },
    "tags": []
   },
   "source": [
    "### Score from Approach 1 (Drop Columns with Missing Values)\n",
    "\n",
    "Since we are working with both training and validation sets, we are careful to drop the same columns in both DataFrames.  "
   ]
  },
  {
   "cell_type": "code",
   "execution_count": 3,
   "id": "48719bb7",
   "metadata": {
    "execution": {
     "iopub.execute_input": "2025-03-14T19:54:16.253944Z",
     "iopub.status.busy": "2025-03-14T19:54:16.253567Z",
     "iopub.status.idle": "2025-03-14T19:54:16.834015Z",
     "shell.execute_reply": "2025-03-14T19:54:16.832937Z"
    },
    "papermill": {
     "duration": 0.58683,
     "end_time": "2025-03-14T19:54:16.835863",
     "exception": false,
     "start_time": "2025-03-14T19:54:16.249033",
     "status": "completed"
    },
    "tags": []
   },
   "outputs": [
    {
     "name": "stdout",
     "output_type": "stream",
     "text": [
      "MAE from Approach 1 (Drop columns with missing values):\n",
      "183550.22137772635\n"
     ]
    }
   ],
   "source": [
    "# Get names of columns with missing values\n",
    "cols_with_missing = [col for col in X_train.columns\n",
    "                     if X_train[col].isnull().any()]\n",
    "\n",
    "# Drop columns in training and validation data\n",
    "reduced_X_train = X_train.drop(cols_with_missing, axis=1)\n",
    "reduced_X_valid = X_valid.drop(cols_with_missing, axis=1)\n",
    "\n",
    "print(\"MAE from Approach 1 (Drop columns with missing values):\")\n",
    "print(score_dataset(reduced_X_train, reduced_X_valid, y_train, y_valid))"
   ]
  },
  {
   "cell_type": "markdown",
   "id": "2a9d5956",
   "metadata": {
    "papermill": {
     "duration": 0.003456,
     "end_time": "2025-03-14T19:54:16.843443",
     "exception": false,
     "start_time": "2025-03-14T19:54:16.839987",
     "status": "completed"
    },
    "tags": []
   },
   "source": [
    "### Score from Approach 2 (Imputation)\n",
    "\n",
    "Next, we use [`SimpleImputer`](https://scikit-learn.org/stable/modules/generated/sklearn.impute.SimpleImputer.html) to replace missing values with the mean value along each column.\n",
    "\n",
    "Although it's simple, filling in the mean value generally performs quite well (but this varies by dataset).  While statisticians have experimented with more complex ways to determine imputed values (such as **regression imputation**, for instance), the complex strategies typically give no additional benefit once you plug the results into sophisticated machine learning models."
   ]
  },
  {
   "cell_type": "code",
   "execution_count": 4,
   "id": "8ffb08d3",
   "metadata": {
    "execution": {
     "iopub.execute_input": "2025-03-14T19:54:16.853400Z",
     "iopub.status.busy": "2025-03-14T19:54:16.853059Z",
     "iopub.status.idle": "2025-03-14T19:54:17.602390Z",
     "shell.execute_reply": "2025-03-14T19:54:17.600750Z"
    },
    "papermill": {
     "duration": 0.757147,
     "end_time": "2025-03-14T19:54:17.604639",
     "exception": false,
     "start_time": "2025-03-14T19:54:16.847492",
     "status": "completed"
    },
    "tags": []
   },
   "outputs": [
    {
     "name": "stdout",
     "output_type": "stream",
     "text": [
      "MAE from Approach 2 (Imputation):\n",
      "178166.46269899711\n"
     ]
    }
   ],
   "source": [
    "from sklearn.impute import SimpleImputer\n",
    "\n",
    "# Imputation\n",
    "my_imputer = SimpleImputer()\n",
    "imputed_X_train = pd.DataFrame(my_imputer.fit_transform(X_train))\n",
    "imputed_X_valid = pd.DataFrame(my_imputer.transform(X_valid))\n",
    "\n",
    "# Imputation removed column names; put them back\n",
    "imputed_X_train.columns = X_train.columns\n",
    "imputed_X_valid.columns = X_valid.columns\n",
    "\n",
    "print(\"MAE from Approach 2 (Imputation):\")\n",
    "print(score_dataset(imputed_X_train, imputed_X_valid, y_train, y_valid))"
   ]
  },
  {
   "cell_type": "markdown",
   "id": "2fb5ea05",
   "metadata": {
    "papermill": {
     "duration": 0.006562,
     "end_time": "2025-03-14T19:54:17.617899",
     "exception": false,
     "start_time": "2025-03-14T19:54:17.611337",
     "status": "completed"
    },
    "tags": []
   },
   "source": [
    "We see that **Approach 2** has lower MAE than **Approach 1**, so **Approach 2** performed better on this dataset.\n",
    "\n",
    "### Score from Approach 3 (An Extension to Imputation)\n",
    "\n",
    "Next, we impute the missing values, while also keeping track of which values were imputed."
   ]
  },
  {
   "cell_type": "code",
   "execution_count": 5,
   "id": "98d18d9a",
   "metadata": {
    "execution": {
     "iopub.execute_input": "2025-03-14T19:54:17.627181Z",
     "iopub.status.busy": "2025-03-14T19:54:17.626781Z",
     "iopub.status.idle": "2025-03-14T19:54:18.452632Z",
     "shell.execute_reply": "2025-03-14T19:54:18.451206Z"
    },
    "papermill": {
     "duration": 0.832662,
     "end_time": "2025-03-14T19:54:18.454691",
     "exception": false,
     "start_time": "2025-03-14T19:54:17.622029",
     "status": "completed"
    },
    "tags": []
   },
   "outputs": [
    {
     "name": "stdout",
     "output_type": "stream",
     "text": [
      "MAE from Approach 3 (An Extension to Imputation):\n",
      "178927.503183954\n"
     ]
    }
   ],
   "source": [
    "# Make copy to avoid changing original data (when imputing)\n",
    "X_train_plus = X_train.copy()\n",
    "X_valid_plus = X_valid.copy()\n",
    "\n",
    "# Make new columns indicating what will be imputed\n",
    "for col in cols_with_missing:\n",
    "    X_train_plus[col + '_was_missing'] = X_train_plus[col].isnull()\n",
    "    X_valid_plus[col + '_was_missing'] = X_valid_plus[col].isnull()\n",
    "\n",
    "# Imputation\n",
    "my_imputer = SimpleImputer()\n",
    "imputed_X_train_plus = pd.DataFrame(my_imputer.fit_transform(X_train_plus))\n",
    "imputed_X_valid_plus = pd.DataFrame(my_imputer.transform(X_valid_plus))\n",
    "\n",
    "# Imputation removed column names; put them back\n",
    "imputed_X_train_plus.columns = X_train_plus.columns\n",
    "imputed_X_valid_plus.columns = X_valid_plus.columns\n",
    "\n",
    "print(\"MAE from Approach 3 (An Extension to Imputation):\")\n",
    "print(score_dataset(imputed_X_train_plus, imputed_X_valid_plus, y_train, y_valid))"
   ]
  },
  {
   "cell_type": "code",
   "execution_count": 6,
   "id": "77e79502",
   "metadata": {
    "execution": {
     "iopub.execute_input": "2025-03-14T19:54:18.464272Z",
     "iopub.status.busy": "2025-03-14T19:54:18.463850Z",
     "iopub.status.idle": "2025-03-14T19:54:18.494457Z",
     "shell.execute_reply": "2025-03-14T19:54:18.493274Z"
    },
    "papermill": {
     "duration": 0.037698,
     "end_time": "2025-03-14T19:54:18.496715",
     "exception": false,
     "start_time": "2025-03-14T19:54:18.459017",
     "status": "completed"
    },
    "tags": []
   },
   "outputs": [
    {
     "data": {
      "text/html": [
       "<div>\n",
       "<style scoped>\n",
       "    .dataframe tbody tr th:only-of-type {\n",
       "        vertical-align: middle;\n",
       "    }\n",
       "\n",
       "    .dataframe tbody tr th {\n",
       "        vertical-align: top;\n",
       "    }\n",
       "\n",
       "    .dataframe thead th {\n",
       "        text-align: right;\n",
       "    }\n",
       "</style>\n",
       "<table border=\"1\" class=\"dataframe\">\n",
       "  <thead>\n",
       "    <tr style=\"text-align: right;\">\n",
       "      <th></th>\n",
       "      <th>Rooms</th>\n",
       "      <th>Distance</th>\n",
       "      <th>Postcode</th>\n",
       "      <th>Bedroom2</th>\n",
       "      <th>Bathroom</th>\n",
       "      <th>Car</th>\n",
       "      <th>Landsize</th>\n",
       "      <th>BuildingArea</th>\n",
       "      <th>YearBuilt</th>\n",
       "      <th>Lattitude</th>\n",
       "      <th>Longtitude</th>\n",
       "      <th>Propertycount</th>\n",
       "      <th>Car_was_missing</th>\n",
       "      <th>BuildingArea_was_missing</th>\n",
       "      <th>YearBuilt_was_missing</th>\n",
       "    </tr>\n",
       "  </thead>\n",
       "  <tbody>\n",
       "    <tr>\n",
       "      <th>2711</th>\n",
       "      <td>2.0</td>\n",
       "      <td>6.4</td>\n",
       "      <td>3011.0</td>\n",
       "      <td>2.0</td>\n",
       "      <td>1.0</td>\n",
       "      <td>1.0</td>\n",
       "      <td>47.0</td>\n",
       "      <td>35.000000</td>\n",
       "      <td>2013.000000</td>\n",
       "      <td>-37.80140</td>\n",
       "      <td>144.89590</td>\n",
       "      <td>7570.0</td>\n",
       "      <td>0.0</td>\n",
       "      <td>0.0</td>\n",
       "      <td>0.0</td>\n",
       "    </tr>\n",
       "    <tr>\n",
       "      <th>2712</th>\n",
       "      <td>4.0</td>\n",
       "      <td>8.0</td>\n",
       "      <td>3016.0</td>\n",
       "      <td>4.0</td>\n",
       "      <td>2.0</td>\n",
       "      <td>4.0</td>\n",
       "      <td>551.0</td>\n",
       "      <td>153.764119</td>\n",
       "      <td>1964.839866</td>\n",
       "      <td>-37.85790</td>\n",
       "      <td>144.87860</td>\n",
       "      <td>6380.0</td>\n",
       "      <td>0.0</td>\n",
       "      <td>1.0</td>\n",
       "      <td>1.0</td>\n",
       "    </tr>\n",
       "    <tr>\n",
       "      <th>2713</th>\n",
       "      <td>3.0</td>\n",
       "      <td>10.8</td>\n",
       "      <td>3105.0</td>\n",
       "      <td>3.0</td>\n",
       "      <td>1.0</td>\n",
       "      <td>1.0</td>\n",
       "      <td>757.0</td>\n",
       "      <td>153.764119</td>\n",
       "      <td>1964.839866</td>\n",
       "      <td>-37.78094</td>\n",
       "      <td>145.10131</td>\n",
       "      <td>4480.0</td>\n",
       "      <td>0.0</td>\n",
       "      <td>1.0</td>\n",
       "      <td>1.0</td>\n",
       "    </tr>\n",
       "    <tr>\n",
       "      <th>2714</th>\n",
       "      <td>4.0</td>\n",
       "      <td>6.2</td>\n",
       "      <td>3039.0</td>\n",
       "      <td>4.0</td>\n",
       "      <td>1.0</td>\n",
       "      <td>3.0</td>\n",
       "      <td>478.0</td>\n",
       "      <td>152.000000</td>\n",
       "      <td>1925.000000</td>\n",
       "      <td>-37.76421</td>\n",
       "      <td>144.90571</td>\n",
       "      <td>6232.0</td>\n",
       "      <td>0.0</td>\n",
       "      <td>0.0</td>\n",
       "      <td>0.0</td>\n",
       "    </tr>\n",
       "    <tr>\n",
       "      <th>2715</th>\n",
       "      <td>2.0</td>\n",
       "      <td>1.6</td>\n",
       "      <td>3066.0</td>\n",
       "      <td>2.0</td>\n",
       "      <td>1.0</td>\n",
       "      <td>2.0</td>\n",
       "      <td>159.0</td>\n",
       "      <td>86.000000</td>\n",
       "      <td>1880.000000</td>\n",
       "      <td>-37.79620</td>\n",
       "      <td>144.98870</td>\n",
       "      <td>4553.0</td>\n",
       "      <td>0.0</td>\n",
       "      <td>0.0</td>\n",
       "      <td>0.0</td>\n",
       "    </tr>\n",
       "  </tbody>\n",
       "</table>\n",
       "</div>"
      ],
      "text/plain": [
       "      Rooms  Distance  Postcode  Bedroom2  Bathroom  Car  Landsize  \\\n",
       "2711    2.0       6.4    3011.0       2.0       1.0  1.0      47.0   \n",
       "2712    4.0       8.0    3016.0       4.0       2.0  4.0     551.0   \n",
       "2713    3.0      10.8    3105.0       3.0       1.0  1.0     757.0   \n",
       "2714    4.0       6.2    3039.0       4.0       1.0  3.0     478.0   \n",
       "2715    2.0       1.6    3066.0       2.0       1.0  2.0     159.0   \n",
       "\n",
       "      BuildingArea    YearBuilt  Lattitude  Longtitude  Propertycount  \\\n",
       "2711     35.000000  2013.000000  -37.80140   144.89590         7570.0   \n",
       "2712    153.764119  1964.839866  -37.85790   144.87860         6380.0   \n",
       "2713    153.764119  1964.839866  -37.78094   145.10131         4480.0   \n",
       "2714    152.000000  1925.000000  -37.76421   144.90571         6232.0   \n",
       "2715     86.000000  1880.000000  -37.79620   144.98870         4553.0   \n",
       "\n",
       "      Car_was_missing  BuildingArea_was_missing  YearBuilt_was_missing  \n",
       "2711              0.0                       0.0                    0.0  \n",
       "2712              0.0                       1.0                    1.0  \n",
       "2713              0.0                       1.0                    1.0  \n",
       "2714              0.0                       0.0                    0.0  \n",
       "2715              0.0                       0.0                    0.0  "
      ]
     },
     "execution_count": 6,
     "metadata": {},
     "output_type": "execute_result"
    }
   ],
   "source": [
    "imputed_X_valid_plus.tail()"
   ]
  },
  {
   "cell_type": "markdown",
   "id": "3c1c6081",
   "metadata": {
    "papermill": {
     "duration": 0.003919,
     "end_time": "2025-03-14T19:54:18.505170",
     "exception": false,
     "start_time": "2025-03-14T19:54:18.501251",
     "status": "completed"
    },
    "tags": []
   },
   "source": [
    "As we can see, **Approach 3** performed slightly worse than **Approach 2**.\n",
    "\n",
    "### So, why did imputation perform better than dropping the columns?\n",
    "\n",
    "The training data has 10864 rows and 12 columns, where three columns contain missing data.  For each column, less than half of the entries are missing.  Thus, dropping the columns removes a lot of useful information, and so it makes sense that imputation would perform better."
   ]
  },
  {
   "cell_type": "code",
   "execution_count": 7,
   "id": "4c7920e2",
   "metadata": {
    "execution": {
     "iopub.execute_input": "2025-03-14T19:54:18.514965Z",
     "iopub.status.busy": "2025-03-14T19:54:18.514562Z",
     "iopub.status.idle": "2025-03-14T19:54:18.524269Z",
     "shell.execute_reply": "2025-03-14T19:54:18.522963Z"
    },
    "papermill": {
     "duration": 0.016951,
     "end_time": "2025-03-14T19:54:18.526408",
     "exception": false,
     "start_time": "2025-03-14T19:54:18.509457",
     "status": "completed"
    },
    "tags": []
   },
   "outputs": [
    {
     "name": "stdout",
     "output_type": "stream",
     "text": [
      "(10864, 12)\n",
      "Car               49\n",
      "BuildingArea    5156\n",
      "YearBuilt       4307\n",
      "dtype: int64\n"
     ]
    }
   ],
   "source": [
    "# Shape of training data (num_rows, num_columns)\n",
    "print(X_train.shape)\n",
    "\n",
    "# Number of missing values in each column of training data\n",
    "missing_val_count_by_column = (X_train.isnull().sum())\n",
    "print(missing_val_count_by_column[missing_val_count_by_column > 0])"
   ]
  },
  {
   "cell_type": "markdown",
   "id": "f8308dd9",
   "metadata": {
    "papermill": {
     "duration": 0.004304,
     "end_time": "2025-03-14T19:54:18.535065",
     "exception": false,
     "start_time": "2025-03-14T19:54:18.530761",
     "status": "completed"
    },
    "tags": []
   },
   "source": [
    "# Conclusion\n",
    "As is common, imputing missing values (in **Approach 2** and **Approach 3**) yielded better results, relative to when we simply dropped columns with missing values (in **Approach 1**).\n",
    "\n",
    "# Your Turn\n",
    "\n",
    "Compare these approaches to dealing with missing values yourself in **[this exercise](https://www.kaggle.com/kernels/fork/3370280)**!"
   ]
  },
  {
   "cell_type": "markdown",
   "id": "d3f4d58d",
   "metadata": {
    "papermill": {
     "duration": 0.003902,
     "end_time": "2025-03-14T19:54:18.543243",
     "exception": false,
     "start_time": "2025-03-14T19:54:18.539341",
     "status": "completed"
    },
    "tags": []
   },
   "source": [
    "---\n",
    "\n",
    "\n",
    "\n",
    "\n",
    "*Have questions or comments? Visit the [course discussion forum](https://www.kaggle.com/learn/intermediate-machine-learning/discussion) to chat with other learners.*"
   ]
  }
 ],
 "metadata": {
  "kaggle": {
   "accelerator": "none",
   "dataSources": [
    {
     "databundleVersionId": 111096,
     "sourceId": 10211,
     "sourceType": "competition"
    },
    {
     "datasetId": 2996,
     "sourceId": 5019,
     "sourceType": "datasetVersion"
    },
    {
     "datasetId": 2709,
     "sourceId": 38454,
     "sourceType": "datasetVersion"
    }
   ],
   "isGpuEnabled": false,
   "isInternetEnabled": false,
   "language": "python",
   "sourceType": "notebook"
  },
  "kernelspec": {
   "display_name": "Python 3",
   "language": "python",
   "name": "python3"
  },
  "language_info": {
   "codemirror_mode": {
    "name": "ipython",
    "version": 3
   },
   "file_extension": ".py",
   "mimetype": "text/x-python",
   "name": "python",
   "nbconvert_exporter": "python",
   "pygments_lexer": "ipython3",
   "version": "3.10.12"
  },
  "papermill": {
   "default_parameters": {},
   "duration": 9.656208,
   "end_time": "2025-03-14T19:54:19.268794",
   "environment_variables": {},
   "exception": null,
   "input_path": "__notebook__.ipynb",
   "output_path": "__notebook__.ipynb",
   "parameters": {},
   "start_time": "2025-03-14T19:54:09.612586",
   "version": "2.6.0"
  }
 },
 "nbformat": 4,
 "nbformat_minor": 5
}

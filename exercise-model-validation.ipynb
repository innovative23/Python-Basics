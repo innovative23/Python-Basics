{
 "cells": [
  {
   "cell_type": "markdown",
   "id": "e0cdb465",
   "metadata": {
    "papermill": {
     "duration": 0.005061,
     "end_time": "2025-03-14T19:49:20.314811",
     "exception": false,
     "start_time": "2025-03-14T19:49:20.309750",
     "status": "completed"
    },
    "tags": []
   },
   "source": [
    "**This notebook is an exercise in the [Introduction to Machine Learning](https://www.kaggle.com/learn/intro-to-machine-learning) course.  You can reference the tutorial at [this link](https://www.kaggle.com/dansbecker/model-validation).**\n",
    "\n",
    "---\n"
   ]
  },
  {
   "cell_type": "markdown",
   "id": "2160dd65",
   "metadata": {
    "papermill": {
     "duration": 0.003812,
     "end_time": "2025-03-14T19:49:20.323978",
     "exception": false,
     "start_time": "2025-03-14T19:49:20.320166",
     "status": "completed"
    },
    "tags": []
   },
   "source": [
    "## Recap\n",
    "You've built a model. In this exercise you will test how good your model is.\n",
    "\n",
    "Run the cell below to set up your coding environment where the previous exercise left off."
   ]
  },
  {
   "cell_type": "code",
   "execution_count": 1,
   "id": "ea792fcb",
   "metadata": {
    "execution": {
     "iopub.execute_input": "2025-03-14T19:49:20.333780Z",
     "iopub.status.busy": "2025-03-14T19:49:20.333338Z",
     "iopub.status.idle": "2025-03-14T19:49:23.261120Z",
     "shell.execute_reply": "2025-03-14T19:49:23.259250Z"
    },
    "papermill": {
     "duration": 2.934957,
     "end_time": "2025-03-14T19:49:23.263040",
     "exception": false,
     "start_time": "2025-03-14T19:49:20.328083",
     "status": "completed"
    },
    "tags": []
   },
   "outputs": [
    {
     "name": "stdout",
     "output_type": "stream",
     "text": [
      "First in-sample predictions: [208500. 181500. 223500. 140000. 250000.]\n",
      "Actual target values for those homes: [208500, 181500, 223500, 140000, 250000]\n",
      "Setup Complete\n"
     ]
    }
   ],
   "source": [
    "# Code you have previously used to load data\n",
    "import pandas as pd\n",
    "from sklearn.tree import DecisionTreeRegressor\n",
    "\n",
    "# Path of the file to read\n",
    "iowa_file_path = '../input/home-data-for-ml-course/train.csv'\n",
    "\n",
    "home_data = pd.read_csv(iowa_file_path)\n",
    "y = home_data.SalePrice\n",
    "feature_columns = ['LotArea', 'YearBuilt', '1stFlrSF', '2ndFlrSF', 'FullBath', 'BedroomAbvGr', 'TotRmsAbvGrd']\n",
    "X = home_data[feature_columns]\n",
    "\n",
    "# Specify Model\n",
    "iowa_model = DecisionTreeRegressor()\n",
    "# Fit Model\n",
    "iowa_model.fit(X, y)\n",
    "\n",
    "print(\"First in-sample predictions:\", iowa_model.predict(X.head()))\n",
    "print(\"Actual target values for those homes:\", y.head().tolist())\n",
    "\n",
    "# Set up code checking\n",
    "from learntools.core import binder\n",
    "binder.bind(globals())\n",
    "from learntools.machine_learning.ex4 import *\n",
    "print(\"Setup Complete\")"
   ]
  },
  {
   "cell_type": "markdown",
   "id": "86fa15a4",
   "metadata": {
    "papermill": {
     "duration": 0.003823,
     "end_time": "2025-03-14T19:49:23.271333",
     "exception": false,
     "start_time": "2025-03-14T19:49:23.267510",
     "status": "completed"
    },
    "tags": []
   },
   "source": [
    "# Exercises\n",
    "\n",
    "## Step 1: Split Your Data\n",
    "Use the `train_test_split` function to split up your data.\n",
    "\n",
    "Give it the argument `random_state=1` so the `check` functions know what to expect when verifying your code.\n",
    "\n",
    "Recall, your features are loaded in the DataFrame **X** and your target is loaded in **y**.\n"
   ]
  },
  {
   "cell_type": "code",
   "execution_count": 2,
   "id": "24d8ab26",
   "metadata": {
    "execution": {
     "iopub.execute_input": "2025-03-14T19:49:23.281225Z",
     "iopub.status.busy": "2025-03-14T19:49:23.280788Z",
     "iopub.status.idle": "2025-03-14T19:49:23.297293Z",
     "shell.execute_reply": "2025-03-14T19:49:23.296150Z"
    },
    "papermill": {
     "duration": 0.023381,
     "end_time": "2025-03-14T19:49:23.298904",
     "exception": false,
     "start_time": "2025-03-14T19:49:23.275523",
     "status": "completed"
    },
    "tags": []
   },
   "outputs": [
    {
     "data": {
      "application/javascript": [
       "parent.postMessage({\"jupyterEvent\": \"custom.exercise_interaction\", \"data\": {\"outcomeType\": 1, \"valueTowardsCompletion\": 0.25, \"interactionType\": 1, \"questionType\": 2, \"questionId\": \"1_SplitData\", \"learnToolsVersion\": \"0.3.4\", \"failureMessage\": \"\", \"exceptionClass\": \"\", \"trace\": \"\"}}, \"*\")"
      ],
      "text/plain": [
       "<IPython.core.display.Javascript object>"
      ]
     },
     "metadata": {},
     "output_type": "display_data"
    },
    {
     "data": {
      "text/markdown": [
       "<span style=\"color:#33cc33\">Correct</span>"
      ],
      "text/plain": [
       "Correct"
      ]
     },
     "metadata": {},
     "output_type": "display_data"
    }
   ],
   "source": [
    "# Import the train_test_split function and uncomment\n",
    "from sklearn.model_selection import train_test_split\n",
    "\n",
    "# fill in and uncomment\n",
    "train_X, val_X, train_y, val_y = train_test_split(X,y,random_state=1)\n",
    "\n",
    "# Check your answer\n",
    "step_1.check()"
   ]
  },
  {
   "cell_type": "code",
   "execution_count": 3,
   "id": "989b2670",
   "metadata": {
    "execution": {
     "iopub.execute_input": "2025-03-14T19:49:23.309272Z",
     "iopub.status.busy": "2025-03-14T19:49:23.308831Z",
     "iopub.status.idle": "2025-03-14T19:49:23.322075Z",
     "shell.execute_reply": "2025-03-14T19:49:23.320703Z"
    },
    "papermill": {
     "duration": 0.020721,
     "end_time": "2025-03-14T19:49:23.323980",
     "exception": false,
     "start_time": "2025-03-14T19:49:23.303259",
     "status": "completed"
    },
    "tags": []
   },
   "outputs": [
    {
     "data": {
      "application/javascript": [
       "parent.postMessage({\"jupyterEvent\": \"custom.exercise_interaction\", \"data\": {\"interactionType\": 2, \"questionType\": 2, \"questionId\": \"1_SplitData\", \"learnToolsVersion\": \"0.3.4\", \"valueTowardsCompletion\": 0.0, \"failureMessage\": \"\", \"exceptionClass\": \"\", \"trace\": \"\", \"outcomeType\": 4}}, \"*\")"
      ],
      "text/plain": [
       "<IPython.core.display.Javascript object>"
      ]
     },
     "metadata": {},
     "output_type": "display_data"
    },
    {
     "data": {
      "text/markdown": [
       "<span style=\"color:#3366cc\">Hint:</span> The function you need to import is part of sklearn. When calling the function, the arguments are X and y. Ensure you set the random_state to 1."
      ],
      "text/plain": [
       "Hint: The function you need to import is part of sklearn. When calling the function, the arguments are X and y. Ensure you set the random_state to 1."
      ]
     },
     "metadata": {},
     "output_type": "display_data"
    },
    {
     "data": {
      "application/javascript": [
       "parent.postMessage({\"jupyterEvent\": \"custom.exercise_interaction\", \"data\": {\"interactionType\": 3, \"questionType\": 2, \"questionId\": \"1_SplitData\", \"learnToolsVersion\": \"0.3.4\", \"valueTowardsCompletion\": 0.0, \"failureMessage\": \"\", \"exceptionClass\": \"\", \"trace\": \"\", \"outcomeType\": 4}}, \"*\")"
      ],
      "text/plain": [
       "<IPython.core.display.Javascript object>"
      ]
     },
     "metadata": {},
     "output_type": "display_data"
    },
    {
     "data": {
      "text/markdown": [
       "<span style=\"color:#33cc99\">Solution:</span> \n",
       "```python\n",
       "from sklearn.model_selection import train_test_split\n",
       "train_X, val_X, train_y, val_y = train_test_split(X, y, random_state=1)\n",
       "```"
      ],
      "text/plain": [
       "Solution: \n",
       "```python\n",
       "from sklearn.model_selection import train_test_split\n",
       "train_X, val_X, train_y, val_y = train_test_split(X, y, random_state=1)\n",
       "```"
      ]
     },
     "metadata": {},
     "output_type": "display_data"
    }
   ],
   "source": [
    "# The lines below will show you a hint or the solution.\n",
    "step_1.hint() \n",
    "step_1.solution()\n"
   ]
  },
  {
   "cell_type": "markdown",
   "id": "c94d848b",
   "metadata": {
    "papermill": {
     "duration": 0.004759,
     "end_time": "2025-03-14T19:49:23.333567",
     "exception": false,
     "start_time": "2025-03-14T19:49:23.328808",
     "status": "completed"
    },
    "tags": []
   },
   "source": [
    "## Step 2: Specify and Fit the Model\n",
    "\n",
    "Create a `DecisionTreeRegressor` model and fit it to the relevant data.\n",
    "Set `random_state` to 1 again when creating the model."
   ]
  },
  {
   "cell_type": "code",
   "execution_count": 4,
   "id": "42585830",
   "metadata": {
    "execution": {
     "iopub.execute_input": "2025-03-14T19:49:23.344788Z",
     "iopub.status.busy": "2025-03-14T19:49:23.344295Z",
     "iopub.status.idle": "2025-03-14T19:49:23.375994Z",
     "shell.execute_reply": "2025-03-14T19:49:23.374830Z"
    },
    "papermill": {
     "duration": 0.039506,
     "end_time": "2025-03-14T19:49:23.377871",
     "exception": false,
     "start_time": "2025-03-14T19:49:23.338365",
     "status": "completed"
    },
    "tags": []
   },
   "outputs": [
    {
     "name": "stdout",
     "output_type": "stream",
     "text": [
      "[186500. 184000. 130000.  92000. 164500. 220000. 335000. 144152. 215000.\n",
      " 262000.]\n",
      "[186500. 184000. 130000.  92000. 164500. 220000. 335000. 144152. 215000.\n",
      " 262000.]\n"
     ]
    },
    {
     "data": {
      "application/javascript": [
       "parent.postMessage({\"jupyterEvent\": \"custom.exercise_interaction\", \"data\": {\"outcomeType\": 1, \"valueTowardsCompletion\": 0.25, \"interactionType\": 1, \"questionType\": 2, \"questionId\": \"2_FitModelWithTrain\", \"learnToolsVersion\": \"0.3.4\", \"failureMessage\": \"\", \"exceptionClass\": \"\", \"trace\": \"\"}}, \"*\")"
      ],
      "text/plain": [
       "<IPython.core.display.Javascript object>"
      ]
     },
     "metadata": {},
     "output_type": "display_data"
    },
    {
     "data": {
      "text/markdown": [
       "<span style=\"color:#33cc33\">Correct</span>"
      ],
      "text/plain": [
       "Correct"
      ]
     },
     "metadata": {},
     "output_type": "display_data"
    }
   ],
   "source": [
    "# You imported DecisionTreeRegressor in your last exercise\n",
    "# and that code has been copied to the setup code above. So, no need to\n",
    "# import it again\n",
    "\n",
    "# Specify the model\n",
    "iowa_model = DecisionTreeRegressor(random_state=1)\n",
    "\n",
    "# Fit iowa_model with the training data.\n",
    "iowa_model.fit(train_X,train_y)\n",
    "\n",
    "# Check your answer\n",
    "step_2.check()"
   ]
  },
  {
   "cell_type": "code",
   "execution_count": 5,
   "id": "024d7f3c",
   "metadata": {
    "execution": {
     "iopub.execute_input": "2025-03-14T19:49:23.390061Z",
     "iopub.status.busy": "2025-03-14T19:49:23.389605Z",
     "iopub.status.idle": "2025-03-14T19:49:23.394233Z",
     "shell.execute_reply": "2025-03-14T19:49:23.392813Z"
    },
    "papermill": {
     "duration": 0.012907,
     "end_time": "2025-03-14T19:49:23.396041",
     "exception": false,
     "start_time": "2025-03-14T19:49:23.383134",
     "status": "completed"
    },
    "tags": []
   },
   "outputs": [],
   "source": [
    "# step_2.hint()\n",
    "# step_2.solution()"
   ]
  },
  {
   "cell_type": "markdown",
   "id": "72e69310",
   "metadata": {
    "papermill": {
     "duration": 0.004683,
     "end_time": "2025-03-14T19:49:23.405838",
     "exception": false,
     "start_time": "2025-03-14T19:49:23.401155",
     "status": "completed"
    },
    "tags": []
   },
   "source": [
    "## Step 3: Make Predictions with Validation data\n"
   ]
  },
  {
   "cell_type": "code",
   "execution_count": 6,
   "id": "cd7e4469",
   "metadata": {
    "execution": {
     "iopub.execute_input": "2025-03-14T19:49:23.418009Z",
     "iopub.status.busy": "2025-03-14T19:49:23.417547Z",
     "iopub.status.idle": "2025-03-14T19:49:23.430271Z",
     "shell.execute_reply": "2025-03-14T19:49:23.429155Z"
    },
    "papermill": {
     "duration": 0.021028,
     "end_time": "2025-03-14T19:49:23.432291",
     "exception": false,
     "start_time": "2025-03-14T19:49:23.411263",
     "status": "completed"
    },
    "tags": []
   },
   "outputs": [
    {
     "data": {
      "application/javascript": [
       "parent.postMessage({\"jupyterEvent\": \"custom.exercise_interaction\", \"data\": {\"outcomeType\": 1, \"valueTowardsCompletion\": 0.25, \"interactionType\": 1, \"questionType\": 2, \"questionId\": \"3_ValPreds\", \"learnToolsVersion\": \"0.3.4\", \"failureMessage\": \"\", \"exceptionClass\": \"\", \"trace\": \"\"}}, \"*\")"
      ],
      "text/plain": [
       "<IPython.core.display.Javascript object>"
      ]
     },
     "metadata": {},
     "output_type": "display_data"
    },
    {
     "data": {
      "text/markdown": [
       "<span style=\"color:#33cc33\">Correct</span>"
      ],
      "text/plain": [
       "Correct"
      ]
     },
     "metadata": {},
     "output_type": "display_data"
    }
   ],
   "source": [
    "# Predict with all validation observations\n",
    "val_predictions = iowa_model.predict(val_X)\n",
    "\n",
    "# Check your answer\n",
    "step_3.check()"
   ]
  },
  {
   "cell_type": "code",
   "execution_count": 7,
   "id": "a4c495ac",
   "metadata": {
    "execution": {
     "iopub.execute_input": "2025-03-14T19:49:23.444660Z",
     "iopub.status.busy": "2025-03-14T19:49:23.444169Z",
     "iopub.status.idle": "2025-03-14T19:49:23.448441Z",
     "shell.execute_reply": "2025-03-14T19:49:23.447288Z"
    },
    "papermill": {
     "duration": 0.012503,
     "end_time": "2025-03-14T19:49:23.450292",
     "exception": false,
     "start_time": "2025-03-14T19:49:23.437789",
     "status": "completed"
    },
    "tags": []
   },
   "outputs": [],
   "source": [
    "# step_3.hint()\n",
    "# step_3.solution()"
   ]
  },
  {
   "cell_type": "markdown",
   "id": "e00b1be1",
   "metadata": {
    "papermill": {
     "duration": 0.004847,
     "end_time": "2025-03-14T19:49:23.460619",
     "exception": false,
     "start_time": "2025-03-14T19:49:23.455772",
     "status": "completed"
    },
    "tags": []
   },
   "source": [
    "Inspect your predictions and actual values from validation data."
   ]
  },
  {
   "cell_type": "code",
   "execution_count": 8,
   "id": "e27edc27",
   "metadata": {
    "execution": {
     "iopub.execute_input": "2025-03-14T19:49:23.472377Z",
     "iopub.status.busy": "2025-03-14T19:49:23.471950Z",
     "iopub.status.idle": "2025-03-14T19:49:23.479718Z",
     "shell.execute_reply": "2025-03-14T19:49:23.478322Z"
    },
    "papermill": {
     "duration": 0.015835,
     "end_time": "2025-03-14T19:49:23.481558",
     "exception": false,
     "start_time": "2025-03-14T19:49:23.465723",
     "status": "completed"
    },
    "tags": []
   },
   "outputs": [
    {
     "name": "stdout",
     "output_type": "stream",
     "text": [
      "[186500. 184000. 130000.  92000. 164500. 220000. 335000. 144152. 215000.\n",
      " 262000.]\n",
      "258     231500\n",
      "267     179500\n",
      "288     122000\n",
      "649      84500\n",
      "1233    142000\n",
      "167     325624\n",
      "926     285000\n",
      "831     151000\n",
      "1237    195000\n",
      "426     275000\n",
      "Name: SalePrice, dtype: int64\n"
     ]
    }
   ],
   "source": [
    "# print the top few validation predictions\n",
    "print(val_predictions[:10])\n",
    "# print the top few actual prices from validation data\n",
    "print(val_y[:10])\n",
    "#print(val_y.to_list())"
   ]
  },
  {
   "cell_type": "markdown",
   "id": "680bcae8",
   "metadata": {
    "papermill": {
     "duration": 0.005224,
     "end_time": "2025-03-14T19:49:23.492475",
     "exception": false,
     "start_time": "2025-03-14T19:49:23.487251",
     "status": "completed"
    },
    "tags": []
   },
   "source": [
    "What do you notice that is different from what you saw with in-sample predictions (which are printed after the top code cell in this page).\n",
    "\n",
    "Do you remember why validation predictions differ from in-sample (or training) predictions? This is an important idea from the last lesson.\n",
    "\n",
    "## Step 4: Calculate the Mean Absolute Error in Validation Data\n"
   ]
  },
  {
   "cell_type": "code",
   "execution_count": 9,
   "id": "6f82f329",
   "metadata": {
    "execution": {
     "iopub.execute_input": "2025-03-14T19:49:23.505609Z",
     "iopub.status.busy": "2025-03-14T19:49:23.505115Z",
     "iopub.status.idle": "2025-03-14T19:49:23.516736Z",
     "shell.execute_reply": "2025-03-14T19:49:23.515621Z"
    },
    "papermill": {
     "duration": 0.021,
     "end_time": "2025-03-14T19:49:23.518602",
     "exception": false,
     "start_time": "2025-03-14T19:49:23.497602",
     "status": "completed"
    },
    "tags": []
   },
   "outputs": [
    {
     "name": "stdout",
     "output_type": "stream",
     "text": [
      "29652.931506849316\n"
     ]
    },
    {
     "data": {
      "application/javascript": [
       "parent.postMessage({\"jupyterEvent\": \"custom.exercise_interaction\", \"data\": {\"outcomeType\": 1, \"valueTowardsCompletion\": 0.25, \"interactionType\": 1, \"questionType\": 1, \"questionId\": \"4_MAE\", \"learnToolsVersion\": \"0.3.4\", \"failureMessage\": \"\", \"exceptionClass\": \"\", \"trace\": \"\"}}, \"*\")"
      ],
      "text/plain": [
       "<IPython.core.display.Javascript object>"
      ]
     },
     "metadata": {},
     "output_type": "display_data"
    },
    {
     "data": {
      "text/markdown": [
       "<span style=\"color:#33cc33\">Correct</span>"
      ],
      "text/plain": [
       "Correct"
      ]
     },
     "metadata": {},
     "output_type": "display_data"
    }
   ],
   "source": [
    "from sklearn.metrics import mean_absolute_error\n",
    "val_mae = mean_absolute_error(val_y,val_predictions)\n",
    "\n",
    "# uncomment following line to see the validation_mae\n",
    "print(val_mae)\n",
    "\n",
    "# Check your answer\n",
    "step_4.check()"
   ]
  },
  {
   "cell_type": "code",
   "execution_count": 10,
   "id": "1e75712a",
   "metadata": {
    "execution": {
     "iopub.execute_input": "2025-03-14T19:49:23.532654Z",
     "iopub.status.busy": "2025-03-14T19:49:23.532227Z",
     "iopub.status.idle": "2025-03-14T19:49:23.536656Z",
     "shell.execute_reply": "2025-03-14T19:49:23.535583Z"
    },
    "papermill": {
     "duration": 0.013789,
     "end_time": "2025-03-14T19:49:23.538555",
     "exception": false,
     "start_time": "2025-03-14T19:49:23.524766",
     "status": "completed"
    },
    "tags": []
   },
   "outputs": [],
   "source": [
    "# step_4.hint()\n",
    "# step_4.solution()"
   ]
  },
  {
   "cell_type": "markdown",
   "id": "28a73e92",
   "metadata": {
    "papermill": {
     "duration": 0.005747,
     "end_time": "2025-03-14T19:49:23.550251",
     "exception": false,
     "start_time": "2025-03-14T19:49:23.544504",
     "status": "completed"
    },
    "tags": []
   },
   "source": [
    "Is that MAE good?  There isn't a general rule for what values are good that applies across applications. But you'll see how to use (and improve) this number in the next step.\n",
    "\n",
    "# Keep Going\n",
    "\n",
    "You are ready for **[Underfitting and Overfitting](https://www.kaggle.com/dansbecker/underfitting-and-overfitting).**\n"
   ]
  },
  {
   "cell_type": "markdown",
   "id": "5affb751",
   "metadata": {
    "papermill": {
     "duration": 0.005412,
     "end_time": "2025-03-14T19:49:23.561137",
     "exception": false,
     "start_time": "2025-03-14T19:49:23.555725",
     "status": "completed"
    },
    "tags": []
   },
   "source": [
    "---\n",
    "\n",
    "\n",
    "\n",
    "\n",
    "*Have questions or comments? Visit the [course discussion forum](https://www.kaggle.com/learn/intro-to-machine-learning/discussion) to chat with other learners.*"
   ]
  }
 ],
 "metadata": {
  "kaggle": {
   "accelerator": "none",
   "dataSources": [
    {
     "databundleVersionId": 111096,
     "sourceId": 10211,
     "sourceType": "competition"
    },
    {
     "datasetId": 11167,
     "sourceId": 15520,
     "sourceType": "datasetVersion"
    },
    {
     "datasetId": 2709,
     "sourceId": 38454,
     "sourceType": "datasetVersion"
    }
   ],
   "isGpuEnabled": false,
   "isInternetEnabled": false,
   "language": "python",
   "sourceType": "notebook"
  },
  "kernelspec": {
   "display_name": "Python 3",
   "language": "python",
   "name": "python3"
  },
  "language_info": {
   "codemirror_mode": {
    "name": "ipython",
    "version": 3
   },
   "file_extension": ".py",
   "mimetype": "text/x-python",
   "name": "python",
   "nbconvert_exporter": "python",
   "pygments_lexer": "ipython3",
   "version": "3.10.12"
  },
  "papermill": {
   "default_parameters": {},
   "duration": 7.455353,
   "end_time": "2025-03-14T19:49:24.589058",
   "environment_variables": {},
   "exception": null,
   "input_path": "__notebook__.ipynb",
   "output_path": "__notebook__.ipynb",
   "parameters": {},
   "start_time": "2025-03-14T19:49:17.133705",
   "version": "2.6.0"
  }
 },
 "nbformat": 4,
 "nbformat_minor": 5
}
